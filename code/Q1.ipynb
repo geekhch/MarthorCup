{
 "cells": [
  {
   "cell_type": "code",
   "execution_count": 41,
   "metadata": {},
   "outputs": [],
   "source": [
    "import pandas as pd\n",
    "import matplotlib.pyplot as plt\n",
    "import numpy as np\n",
    "import pylab\n",
    "pylab.rcParams['figure.figsize'] = (20.0, 15.0)"
   ]
  },
  {
   "cell_type": "markdown",
   "metadata": {},
   "source": [
    "## 计算收得率"
   ]
  },
  {
   "cell_type": "code",
   "execution_count": 20,
   "metadata": {},
   "outputs": [
    {
     "data": {
      "text/plain": [
       "810"
      ]
     },
     "execution_count": 20,
     "metadata": {},
     "output_type": "execute_result"
    }
   ],
   "source": [
    "data = pd.read_excel('data1.xlsx')\n",
    "# 计算加入的C、Mn元素质量、吸收质量、收得率\n",
    "data.drop(data[data['连铸正样C'].isnull()].index,inplace=True)\n",
    "c_t=['钒铁(FeV50-A)','钒铁(FeV50-B)','硅铝合金FeAl30Si25','硅锰面（硅锰渣）','硅铁(合格块)','硅铁FeSi75-B','石油焦增碳剂','锰硅合金FeMn64Si27(合格块)','锰硅合金FeMn68Si18(合格块)','碳化硅(55%)','硅钙碳脱氧剂']\n",
    "c_p=[0.0031,0.0031,0.00374,0.017,0.0006,0.0006,0.96,0.017,0.017,0.3,0.225692308]\n",
    "mn_t=['硅铝锰合金球','硅锰面（硅锰渣）','锰硅合金FeMn64Si27(合格块)','锰硅合金FeMn68Si18(合格块)']\n",
    "mn_p = [0.3,0.664,0.664,0.664]\n",
    "\n",
    "# 离群值处理\n",
    "# outs=['转炉终点温度', '转炉终点C', '转炉终点Mn', '转炉终点S', '转炉终点P',\n",
    "#        '转炉终点Si', '钢水净重', '连铸正样C', '连铸正样Mn', '连铸正样S', '连铸正样P', '连铸正样Si']\n",
    "# for out in outs:\n",
    "#     data.drop(data[(data[out]>(data[out].mean()+3*data[out].std()))|(data[out]<(data[out].mean()-3*data[out].std()))].index,inplace=True)\n",
    "# data.drop(data[(data['转炉终点C']>0.002)|(data['转炉终点C']<0.0001)].index,inplace=True) \n",
    "# data.drop(data[(data['转炉终点C']>0.002)|(data['转炉终点C']<0.0001)].index,inplace=True) \n",
    "data['加入C含量']=(data[c_t]*c_p).sum(axis=1)\n",
    "data['吸收C质量']=(data['连铸正样C']-data['转炉终点C'])*data['钢水净重']\n",
    "data['C收得率'] = data['吸收C质量']/data['加入C含量']\n",
    "data['加入Mn含量']=(data[mn_t]*mn_p).sum(axis=1)\n",
    "data['吸收Mn质量']=(data['连铸正样Mn']-data['转炉终点Mn'])*data['钢水净重']\n",
    "data['Mn收得率']=data['吸收Mn质量']/data['加入Mn含量']\n",
    "# data.to_excel('q1_1_收得率.xls',index=False)\n",
    "len(data)"
   ]
  },
  {
   "cell_type": "code",
   "execution_count": 7,
   "metadata": {},
   "outputs": [
    {
     "data": {
      "text/plain": [
       "炉号                       0\n",
       "钢种                       0\n",
       "钢号                       0\n",
       "转炉终点温度                   0\n",
       "转炉终点C                    1\n",
       "转炉终点Mn                 560\n",
       "转炉终点S                    1\n",
       "转炉终点P                  560\n",
       "转炉终点Si                   1\n",
       "钢水净重                     0\n",
       "连铸正样C                    0\n",
       "连铸正样Mn                   0\n",
       "连铸正样S                    0\n",
       "连铸正样P                    0\n",
       "连铸正样Si                   0\n",
       "连铸正样Ceq_val              0\n",
       "连铸正样Cr                   0\n",
       "连铸正样Ni_val               0\n",
       "连铸正样Cu_val               0\n",
       "连铸正样Nb_val             616\n",
       "连铸正样V_val                0\n",
       "连铸正样Alt_val              0\n",
       "连铸正样Als_val              0\n",
       "连铸正样Mo_val               0\n",
       "连铸正样Ti_val              10\n",
       "连铸正样N_val              810\n",
       "连铸正样O_val              810\n",
       "连铸正样B_val              739\n",
       "氮化钒铁FeV55N11-A           0\n",
       "低铝硅铁                     0\n",
       "钒氮合金(进口)                 0\n",
       "钒铁(FeV50-A)              0\n",
       "钒铁(FeV50-B)              0\n",
       "钒铁(FeV50-B).1            0\n",
       "硅铝钙                      0\n",
       "硅铝合金FeAl30Si25           0\n",
       "硅铝锰合金球                   0\n",
       "硅锰面（硅锰渣）                 0\n",
       "硅铁(合格块)                  0\n",
       "硅铁FeSi75-B               0\n",
       "石油焦增碳剂                   0\n",
       "锰硅合金FeMn64Si27(合格块)      0\n",
       "锰硅合金FeMn68Si18(合格块)      0\n",
       "碳化硅(55%)                 0\n",
       "硅钙碳脱氧剂                   0\n",
       "加入C含量                    0\n",
       "吸收C质量                    1\n",
       "C收得率                     1\n",
       "加入Mn含量                   0\n",
       "吸收Mn质量                 560\n",
       "Mn收得率                  560\n",
       "dtype: int64"
      ]
     },
     "execution_count": 7,
     "metadata": {},
     "output_type": "execute_result"
    }
   ],
   "source": [
    "data.isna().sum()"
   ]
  },
  {
   "cell_type": "code",
   "execution_count": 38,
   "metadata": {},
   "outputs": [
    {
     "ename": "TypeError",
     "evalue": "'str' object is not callable",
     "output_type": "error",
     "traceback": [
      "\u001b[1;31m---------------------------------------------------------------------------\u001b[0m",
      "\u001b[1;31mTypeError\u001b[0m                                 Traceback (most recent call last)",
      "\u001b[1;32m<ipython-input-38-e807c0287841>\u001b[0m in \u001b[0;36m<module>\u001b[1;34m()\u001b[0m\n\u001b[1;32m----> 1\u001b[1;33m \u001b[0mplt\u001b[0m\u001b[1;33m.\u001b[0m\u001b[0mgrid\u001b[0m\u001b[1;33m(\u001b[0m\u001b[1;33m)\u001b[0m\u001b[1;33m\u001b[0m\u001b[0m\n\u001b[0m",
      "\u001b[1;31mTypeError\u001b[0m: 'str' object is not callable"
     ]
    }
   ],
   "source": [
    "plt.grid()"
   ]
  },
  {
   "cell_type": "code",
   "execution_count": 45,
   "metadata": {
    "scrolled": true
   },
   "outputs": [
    {
     "data": {
      "image/png": "[encoded data removed]",
      "text/plain": [
       "<Figure size 1440x1080 with 1 Axes>"
      ]
     },
     "metadata": {
      "needs_background": "light"
     },
     "output_type": "display_data"
    }
   ],
   "source": [
    "h = data['转炉终点C'].hist(bins=100,)\n",
    "plt.xticks(fontsize=20)\n",
    "plt.yticks(fontsize=20)\n",
    "plt.title('转炉终点C',fontproperties=\"SimHei\",fontsize=35)\n",
    "h.grid(False)"
   ]
  },
  {
   "cell_type": "code",
   "execution_count": 1,
   "metadata": {},
   "outputs": [],
   "source": [
    "# data.isnull().sum()"
   ]
  },
  {
   "cell_type": "markdown",
   "metadata": {},
   "source": [
    "## 相关性分析"
   ]
  },
  {
   "cell_type": "code",
   "execution_count": 22,
   "metadata": {},
   "outputs": [],
   "source": [
    "nume = ['转炉终点温度', '转炉终点C', '转炉终点S',\n",
    "       '转炉终点Si', '钢水净重', \n",
    "#         '连铸正样C', '连铸正样Mn', '连铸正样S', '连铸正样P', '连铸正样Si',\n",
    "#        '连铸正样Ceq_val', '连铸正样Cr', '连铸正样Ni_val', '连铸正样Cu_val', '连铸正样Nb_val',\n",
    "#        '连铸正样V_val', '连铸正样Alt_val', '连铸正样Als_val', '连铸正样Mo_val', '连铸正样Ti_val',\n",
    "        '氮化钒铁FeV55N11-A', '低铝硅铁',\n",
    "       '钒氮合金(进口)', '钒铁(FeV50-A)', '钒铁(FeV50-B)', '钒铁(FeV50-B).1', '硅铝钙',\n",
    "       '硅铝合金FeAl30Si25', '硅铝锰合金球', '硅锰面（硅锰渣）', '硅铁(合格块)', '硅铁FeSi75-B',\n",
    "       '石油焦增碳剂', '锰硅合金FeMn64Si27(合格块)', '锰硅合金FeMn68Si18(合格块)', '碳化硅(55%)',\n",
    "       '硅钙碳脱氧剂','C收得率','Mn收得率']"
   ]
  },
  {
   "cell_type": "code",
   "execution_count": 10,
   "metadata": {},
   "outputs": [],
   "source": [
    "nm_df = data[nume].apply(lambda x: (x - np.min(x)) / (np.max(x) - np.min(x)))"
   ]
  },
  {
   "cell_type": "code",
   "execution_count": 20,
   "metadata": {},
   "outputs": [],
   "source": [
    "data[list(used.index)+['C收得率']].to_csv('C_train_data.csv',index=False)"
   ]
  },
  {
   "cell_type": "code",
   "execution_count": 28,
   "metadata": {
    "scrolled": true
   },
   "outputs": [
    {
     "data": {
      "text/html": [
       "<div>\n",
       "<style scoped>\n",
       "    .dataframe tbody tr th:only-of-type {\n",
       "        vertical-align: middle;\n",
       "    }\n",
       "\n",
       "    .dataframe tbody tr th {\n",
       "        vertical-align: top;\n",
       "    }\n",
       "\n",
       "    .dataframe thead th {\n",
       "        text-align: right;\n",
       "    }\n",
       "</style>\n",
       "<table border=\"1\" class=\"dataframe\">\n",
       "  <thead>\n",
       "    <tr style=\"text-align: right;\">\n",
       "      <th></th>\n",
       "      <th>C收得率</th>\n",
       "    </tr>\n",
       "  </thead>\n",
       "  <tbody>\n",
       "    <tr>\n",
       "      <th>转炉终点C</th>\n",
       "      <td>-0.288815</td>\n",
       "    </tr>\n",
       "    <tr>\n",
       "      <th>钢水净重</th>\n",
       "      <td>0.502615</td>\n",
       "    </tr>\n",
       "    <tr>\n",
       "      <th>低铝硅铁</th>\n",
       "      <td>0.411273</td>\n",
       "    </tr>\n",
       "    <tr>\n",
       "      <th>石油焦增碳剂</th>\n",
       "      <td>-0.268498</td>\n",
       "    </tr>\n",
       "    <tr>\n",
       "      <th>C收得率</th>\n",
       "      <td>1.000000</td>\n",
       "    </tr>\n",
       "    <tr>\n",
       "      <th>Mn收得率</th>\n",
       "      <td>0.725349</td>\n",
       "    </tr>\n",
       "  </tbody>\n",
       "</table>\n",
       "</div>"
      ],
      "text/plain": [
       "            C收得率\n",
       "转炉终点C  -0.288815\n",
       "钢水净重    0.502615\n",
       "低铝硅铁    0.411273\n",
       "石油焦增碳剂 -0.268498\n",
       "C收得率    1.000000\n",
       "Mn收得率   0.725349"
      ]
     },
     "execution_count": 28,
     "metadata": {},
     "output_type": "execute_result"
    }
   ],
   "source": [
    "data# C相关系数矩阵\n",
    "c_corr = data[nume].corr()[['C收得率']]\n",
    "used = c_corr[(abs(c_corr['C收得率'])>0.15)]\n",
    "# c_corr.sort_values('C收得率',ascending=False)\n",
    "used"
   ]
  },
  {
   "cell_type": "code",
   "execution_count": 27,
   "metadata": {},
   "outputs": [
    {
     "data": {
      "text/html": [
       "<div>\n",
       "<style scoped>\n",
       "    .dataframe tbody tr th:only-of-type {\n",
       "        vertical-align: middle;\n",
       "    }\n",
       "\n",
       "    .dataframe tbody tr th {\n",
       "        vertical-align: top;\n",
       "    }\n",
       "\n",
       "    .dataframe thead th {\n",
       "        text-align: right;\n",
       "    }\n",
       "</style>\n",
       "<table border=\"1\" class=\"dataframe\">\n",
       "  <thead>\n",
       "    <tr style=\"text-align: right;\">\n",
       "      <th></th>\n",
       "      <th>Mn收得率</th>\n",
       "    </tr>\n",
       "  </thead>\n",
       "  <tbody>\n",
       "    <tr>\n",
       "      <th>碳化硅(55%)</th>\n",
       "      <td>-0.216302</td>\n",
       "    </tr>\n",
       "    <tr>\n",
       "      <th>钒铁(FeV50-B).1</th>\n",
       "      <td>-0.186182</td>\n",
       "    </tr>\n",
       "    <tr>\n",
       "      <th>钒氮合金(进口)</th>\n",
       "      <td>0.248616</td>\n",
       "    </tr>\n",
       "    <tr>\n",
       "      <th>C收得率</th>\n",
       "      <td>0.725349</td>\n",
       "    </tr>\n",
       "    <tr>\n",
       "      <th>低铝硅铁</th>\n",
       "      <td>0.940746</td>\n",
       "    </tr>\n",
       "    <tr>\n",
       "      <th>钢水净重</th>\n",
       "      <td>0.944048</td>\n",
       "    </tr>\n",
       "    <tr>\n",
       "      <th>Mn收得率</th>\n",
       "      <td>1.000000</td>\n",
       "    </tr>\n",
       "  </tbody>\n",
       "</table>\n",
       "</div>"
      ],
      "text/plain": [
       "                  Mn收得率\n",
       "碳化硅(55%)      -0.216302\n",
       "钒铁(FeV50-B).1 -0.186182\n",
       "钒氮合金(进口)       0.248616\n",
       "C收得率           0.725349\n",
       "低铝硅铁           0.940746\n",
       "钢水净重           0.944048\n",
       "Mn收得率          1.000000"
      ]
     },
     "execution_count": 27,
     "metadata": {},
     "output_type": "execute_result"
    }
   ],
   "source": [
    "# Mn相关系数矩阵\n",
    "c_corr = data[nume].corr()[['Mn收得率']]\n",
    "used = c_corr[(abs(c_corr['Mn收得率'])>0.15)]\n",
    "used.sort_values('Mn收得率')"
   ]
  },
  {
   "cell_type": "code",
   "execution_count": 20,
   "metadata": {
    "scrolled": true
   },
   "outputs": [],
   "source": []
  },
  {
   "cell_type": "code",
   "execution_count": 22,
   "metadata": {},
   "outputs": [
    {
     "data": {
      "text/html": [
       "<div>\n",
       "<style scoped>\n",
       "    .dataframe tbody tr th:only-of-type {\n",
       "        vertical-align: middle;\n",
       "    }\n",
       "\n",
       "    .dataframe tbody tr th {\n",
       "        vertical-align: top;\n",
       "    }\n",
       "\n",
       "    .dataframe thead th {\n",
       "        text-align: right;\n",
       "    }\n",
       "</style>\n",
       "<table border=\"1\" class=\"dataframe\">\n",
       "  <thead>\n",
       "    <tr style=\"text-align: right;\">\n",
       "      <th></th>\n",
       "      <th>炉号</th>\n",
       "      <th>钢种</th>\n",
       "      <th>钢号</th>\n",
       "      <th>转炉终点温度</th>\n",
       "      <th>转炉终点C</th>\n",
       "      <th>转炉终点Mn</th>\n",
       "      <th>转炉终点S</th>\n",
       "      <th>转炉终点P</th>\n",
       "      <th>转炉终点Si</th>\n",
       "      <th>钢水净重</th>\n",
       "      <th>...</th>\n",
       "      <th>硅铝锰合金球</th>\n",
       "      <th>硅锰面（硅锰渣）</th>\n",
       "      <th>硅铁(合格块)</th>\n",
       "      <th>硅铁FeSi75-B</th>\n",
       "      <th>石油焦增碳剂</th>\n",
       "      <th>锰硅合金FeMn64Si27(合格块)</th>\n",
       "      <th>锰硅合金FeMn68Si18(合格块)</th>\n",
       "      <th>碳化硅(55%)</th>\n",
       "      <th>硅钙碳脱氧剂</th>\n",
       "      <th>加入C含量</th>\n",
       "    </tr>\n",
       "  </thead>\n",
       "  <tbody>\n",
       "    <tr>\n",
       "      <th>0</th>\n",
       "      <td>7A06878</td>\n",
       "      <td>低合金</td>\n",
       "      <td>HRB400B</td>\n",
       "      <td>1644.0</td>\n",
       "      <td>0.00065</td>\n",
       "      <td>0.0011</td>\n",
       "      <td>0.00030</td>\n",
       "      <td>0.00014</td>\n",
       "      <td>0.004</td>\n",
       "      <td>74400.0</td>\n",
       "      <td>...</td>\n",
       "      <td>0</td>\n",
       "      <td>0</td>\n",
       "      <td>0</td>\n",
       "      <td>0</td>\n",
       "      <td>85</td>\n",
       "      <td>1547</td>\n",
       "      <td>0</td>\n",
       "      <td>88</td>\n",
       "      <td>0</td>\n",
       "      <td>134.299</td>\n",
       "    </tr>\n",
       "    <tr>\n",
       "      <th>1</th>\n",
       "      <td>7A06877</td>\n",
       "      <td>低合金</td>\n",
       "      <td>HRB400B</td>\n",
       "      <td>1543.0</td>\n",
       "      <td>0.00077</td>\n",
       "      <td>0.0011</td>\n",
       "      <td>0.00039</td>\n",
       "      <td>0.00021</td>\n",
       "      <td>0.004</td>\n",
       "      <td>74200.0</td>\n",
       "      <td>...</td>\n",
       "      <td>0</td>\n",
       "      <td>0</td>\n",
       "      <td>0</td>\n",
       "      <td>0</td>\n",
       "      <td>68</td>\n",
       "      <td>1530</td>\n",
       "      <td>0</td>\n",
       "      <td>132</td>\n",
       "      <td>0</td>\n",
       "      <td>130.890</td>\n",
       "    </tr>\n",
       "    <tr>\n",
       "      <th>2</th>\n",
       "      <td>7A06876</td>\n",
       "      <td>低合金</td>\n",
       "      <td>HRB400B</td>\n",
       "      <td>1684.0</td>\n",
       "      <td>0.00035</td>\n",
       "      <td>0.0011</td>\n",
       "      <td>0.00024</td>\n",
       "      <td>0.00020</td>\n",
       "      <td>0.004</td>\n",
       "      <td>78250.0</td>\n",
       "      <td>...</td>\n",
       "      <td>0</td>\n",
       "      <td>0</td>\n",
       "      <td>0</td>\n",
       "      <td>0</td>\n",
       "      <td>90</td>\n",
       "      <td>0</td>\n",
       "      <td>1450</td>\n",
       "      <td>132</td>\n",
       "      <td>0</td>\n",
       "      <td>150.650</td>\n",
       "    </tr>\n",
       "    <tr>\n",
       "      <th>3</th>\n",
       "      <td>7A06875</td>\n",
       "      <td>低合金</td>\n",
       "      <td>HRB400B</td>\n",
       "      <td>1674.0</td>\n",
       "      <td>0.00048</td>\n",
       "      <td>0.0012</td>\n",
       "      <td>0.00036</td>\n",
       "      <td>0.00030</td>\n",
       "      <td>0.004</td>\n",
       "      <td>73600.0</td>\n",
       "      <td>...</td>\n",
       "      <td>0</td>\n",
       "      <td>0</td>\n",
       "      <td>0</td>\n",
       "      <td>0</td>\n",
       "      <td>85</td>\n",
       "      <td>0</td>\n",
       "      <td>1450</td>\n",
       "      <td>132</td>\n",
       "      <td>0</td>\n",
       "      <td>145.850</td>\n",
       "    </tr>\n",
       "    <tr>\n",
       "      <th>4</th>\n",
       "      <td>7A06874</td>\n",
       "      <td>低合金</td>\n",
       "      <td>HRB400B</td>\n",
       "      <td>1800.0</td>\n",
       "      <td>0.00036</td>\n",
       "      <td>0.0009</td>\n",
       "      <td>0.00028</td>\n",
       "      <td>0.00025</td>\n",
       "      <td>0.004</td>\n",
       "      <td>72400.0</td>\n",
       "      <td>...</td>\n",
       "      <td>0</td>\n",
       "      <td>0</td>\n",
       "      <td>0</td>\n",
       "      <td>0</td>\n",
       "      <td>90</td>\n",
       "      <td>0</td>\n",
       "      <td>1450</td>\n",
       "      <td>132</td>\n",
       "      <td>0</td>\n",
       "      <td>150.650</td>\n",
       "    </tr>\n",
       "  </tbody>\n",
       "</table>\n",
       "<p>5 rows × 46 columns</p>\n",
       "</div>"
      ],
      "text/plain": [
       "                     炉号       钢种           钢号  转炉终点温度    转炉终点C  转炉终点Mn  \\\n",
       "0  7A06878               低合金      HRB400B      1644.0  0.00065  0.0011   \n",
       "1  7A06877               低合金      HRB400B      1543.0  0.00077  0.0011   \n",
       "2  7A06876               低合金      HRB400B      1684.0  0.00035  0.0011   \n",
       "3  7A06875               低合金      HRB400B      1674.0  0.00048  0.0012   \n",
       "4  7A06874               低合金      HRB400B      1800.0  0.00036  0.0009   \n",
       "\n",
       "     转炉终点S    转炉终点P  转炉终点Si     钢水净重   ...     硅铝锰合金球  硅锰面（硅锰渣）  硅铁(合格块)  \\\n",
       "0  0.00030  0.00014   0.004  74400.0   ...          0         0        0   \n",
       "1  0.00039  0.00021   0.004  74200.0   ...          0         0        0   \n",
       "2  0.00024  0.00020   0.004  78250.0   ...          0         0        0   \n",
       "3  0.00036  0.00030   0.004  73600.0   ...          0         0        0   \n",
       "4  0.00028  0.00025   0.004  72400.0   ...          0         0        0   \n",
       "\n",
       "   硅铁FeSi75-B  石油焦增碳剂  锰硅合金FeMn64Si27(合格块)  锰硅合金FeMn68Si18(合格块)  碳化硅(55%)  \\\n",
       "0           0      85                 1547                    0        88   \n",
       "1           0      68                 1530                    0       132   \n",
       "2           0      90                    0                 1450       132   \n",
       "3           0      85                    0                 1450       132   \n",
       "4           0      90                    0                 1450       132   \n",
       "\n",
       "   硅钙碳脱氧剂    加入C含量  \n",
       "0       0  134.299  \n",
       "1       0  130.890  \n",
       "2       0  150.650  \n",
       "3       0  145.850  \n",
       "4       0  150.650  \n",
       "\n",
       "[5 rows x 46 columns]"
      ]
     },
     "execution_count": 22,
     "metadata": {},
     "output_type": "execute_result"
    }
   ],
   "source": [
    "data.head()"
   ]
  }
 ],
 "metadata": {
  "kernelspec": {
   "display_name": "Python 3",
   "language": "python",
   "name": "python3"
  },
  "language_info": {
   "codemirror_mode": {
    "name": "ipython",
    "version": 3
   },
   "file_extension": ".py",
   "mimetype": "text/x-python",
   "name": "python",
   "nbconvert_exporter": "python",
   "pygments_lexer": "ipython3",
   "version": "3.7.0"
  }
 },
 "nbformat": 4,
 "nbformat_minor": 2
}

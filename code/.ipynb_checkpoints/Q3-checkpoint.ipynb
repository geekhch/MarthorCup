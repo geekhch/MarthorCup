{
 "cells": [
  {
   "cell_type": "code",
   "execution_count": 157,
   "metadata": {},
   "outputs": [],
   "source": [
    "import numpy as np\n",
    "from sklearn import tree,metrics,svm,ensemble,neighbors\n",
    "import pandas as pd\n",
    "from sklearn.model_selection import train_test_split,KFold\n",
    "from sklearn import linear_model\n",
    "import xgboost as xgb\n",
    "from sklearn.preprocessing import PolynomialFeatures\n",
    "from sklearn.pipeline import Pipeline\n",
    "from scipy import optimize"
   ]
  },
  {
   "cell_type": "code",
   "execution_count": 183,
   "metadata": {},
   "outputs": [
    {
     "data": {
      "text/plain": [
       "16"
      ]
     },
     "execution_count": 183,
     "metadata": {},
     "output_type": "execute_result"
    }
   ],
   "source": [
    "mixture = ['氮化钒铁FeV55N11-A','低铝硅铁','钒氮合金(进口)','钒铁(FeV50-A)','钒铁(FeV50-B)','硅铝钙','硅铝合金FeAl30Si25','硅铝锰合金球',\n",
    "           '硅锰面（硅锰渣）','硅铁(合格块)','硅铁FeSi75-B','石油焦增碳剂','锰硅合金FeMn64Si27(合格块)','锰硅合金FeMn68Si18(合格块)',\n",
    "           '碳化硅(55%)','硅钙碳脱氧剂']\n",
    "columns = ['转炉终点温度', '转炉终点C', '转炉终点Mn', '转炉终点S', '转炉终点P',\n",
    "       '转炉终点Si', '钢水净重', '连铸正样C', '连铸正样Mn', '连铸正样S', '连铸正样P', '连铸正样Si', '氮化钒铁FeV55N11-A', '低铝硅铁',\n",
    "       '钒氮合金(进口)', '钒铁(FeV50-A)', '钒铁(FeV50-B)', '钒铁(FeV50-B).1', '硅铝钙',\n",
    "       '硅铝合金FeAl30Si25', '硅铝锰合金球', '硅锰面（硅锰渣）', '硅铁(合格块)', '硅铁FeSi75-B',\n",
    "       '石油焦增碳剂', '锰硅合金FeMn64Si27(合格块)', '锰硅合金FeMn68Si18(合格块)', '碳化硅(55%)',\n",
    "       '硅钙碳脱氧剂']\n",
    "x_col = [ '转炉终点C', '转炉终点Mn', '转炉终点S', '转炉终点P',\n",
    "       '转炉终点Si','转炉终点温度', '钢水净重', '氮化钒铁FeV55N11-A', '低铝硅铁',\n",
    "       '钒氮合金(进口)', '钒铁(FeV50-A)', '钒铁(FeV50-B)', '硅铝钙',\n",
    "       '硅铝合金FeAl30Si25', '硅铝锰合金球', '硅锰面（硅锰渣）', '硅铁(合格块)', '硅铁FeSi75-B',\n",
    "       '石油焦增碳剂', '锰硅合金FeMn64Si27(合格块)', '锰硅合金FeMn68Si18(合格块)', '碳化硅(55%)',\n",
    "       '硅钙碳脱氧剂']\n",
    "price = [350000,6500,350000,205000,205000,11800,1000,8500,7600,6000,6000,4600,8150,8150,6100,4000]\n",
    "len(price)"
   ]
  },
  {
   "cell_type": "code",
   "execution_count": 281,
   "metadata": {},
   "outputs": [
    {
     "data": {
      "text/plain": [
       "转炉终点温度                  412.509148\n",
       "转炉终点C                     0.000212\n",
       "转炉终点Mn                    0.000142\n",
       "转炉终点S                     0.000057\n",
       "转炉终点P                     0.000040\n",
       "转炉终点Si                    0.000773\n",
       "钢水净重                   3450.728682\n",
       "连铸正样C                     0.000068\n",
       "连铸正样Mn                    0.000330\n",
       "连铸正样S                     0.000038\n",
       "连铸正样P                     0.000055\n",
       "连铸正样Si                    0.000205\n",
       "氮化钒铁FeV55N11-A           10.857237\n",
       "低铝硅铁                      0.000000\n",
       "钒氮合金(进口)                  7.862632\n",
       "钒铁(FeV50-A)               3.076156\n",
       "钒铁(FeV50-B)              12.879600\n",
       "硅铝钙                      20.937015\n",
       "硅铝合金FeAl30Si25           12.292978\n",
       "硅铝锰合金球                    0.000000\n",
       "硅锰面（硅锰渣）                103.423766\n",
       "硅铁(合格块)                   0.000000\n",
       "硅铁FeSi75-B                1.375760\n",
       "石油焦增碳剂                   17.119141\n",
       "锰硅合金FeMn64Si27(合格块)     251.146294\n",
       "锰硅合金FeMn68Si18(合格块)     305.531566\n",
       "碳化硅(55%)                 24.048310\n",
       "硅钙碳脱氧剂                    7.214721\n",
       "dtype: float64"
      ]
     },
     "execution_count": 281,
     "metadata": {},
     "output_type": "execute_result"
    }
   ],
   "source": [
    "data.std()"
   ]
  },
  {
   "cell_type": "code",
   "execution_count": 284,
   "metadata": {
    "scrolled": false
   },
   "outputs": [
    {
     "data": {
      "text/plain": [
       "571"
      ]
     },
     "execution_count": 284,
     "metadata": {},
     "output_type": "execute_result"
    }
   ],
   "source": [
    "data = pd.read_excel('./data1.xlsx')\n",
    "data.drop(data[data['连铸正样C'].isnull()].index,inplace=True)\n",
    "data=data[data['钢号']=='HRB400B    '][columns]\n",
    "# 离群值处理\n",
    "outs=['转炉终点温度', '转炉终点C', '转炉终点Mn', '转炉终点S', '转炉终点P',\n",
    "       '转炉终点Si', '钢水净重', '连铸正样C', '连铸正样Mn', '连铸正样S', '连铸正样P', '连铸正样Si']\n",
    "for out in outs:\n",
    "    data.drop(data[(data[out]>(data[out].mean()+3*data[out].std()))|(data[out]<(data[out].mean()-3*data[out].std()))].index,inplace=True)\n",
    "\n",
    "data.fillna(data.mean(),inplace=True)\n",
    "data2 = pd.read_excel('data2.xlsx')\n",
    "data2.head(2)\n",
    "data['钒铁(FeV50-B)'] = data['钒铁(FeV50-B)']+data['钒铁(FeV50-B).1']\n",
    "data.drop('钒铁(FeV50-B).1',axis=1,inplace=True)\n",
    "# X = data[x_col].apply(lambda x: (x - np.min(x)) / (np.max(x) - np.min(x)+1e-10)).values\n",
    "X = data[x_col].values\n",
    "\n",
    "len(data)#.isna().sum()"
   ]
  },
  {
   "cell_type": "code",
   "execution_count": 285,
   "metadata": {},
   "outputs": [],
   "source": [
    "# data[x_col].apply(lambda x: (x - np.min(x)) / (np.max(x) - np.min(x)+1e-10))"
   ]
  },
  {
   "cell_type": "markdown",
   "metadata": {},
   "source": [
    "### 以下分别计算五种元素的预测模型"
   ]
  },
  {
   "cell_type": "code",
   "execution_count": 295,
   "metadata": {},
   "outputs": [
    {
     "data": {
      "text/plain": [
       "(-0.06076393145840901,\n",
       " 0.00023929442058404156,\n",
       " 8.973495987630443e-08,\n",
       " 0.02089343375638583)"
      ]
     },
     "execution_count": 295,
     "metadata": {},
     "output_type": "execute_result"
    }
   ],
   "source": [
    "Y = data['连铸正样Mn'].values\n",
    "clf = linear_model.BayesianRidge()\n",
    "ki = 8\n",
    "kf = KFold(n_splits=ki)\n",
    "r2,mae,mse=0,0,0\n",
    "for train_index,test_index in kf.split(X):\n",
    "    clf_Mn = clf.fit(X[train_index],Y[train_index])\n",
    "    pre_y = clf_Mn.predict(X[test_index])\n",
    "    r2+=metrics.r2_score(Y[test_index],pre_y)\n",
    "    mae+=metrics.mean_absolute_error(Y[test_index],pre_y)\n",
    "    mse+=metrics.mean_squared_error(Y[test_index],pre_y)\n",
    "## r2决定系数，绝对误差，绝对均方误差，绝对误差百分比\n",
    "r2/ki,mae/ki,mse/ki,np.mean(np.abs((Y[test_index]-pre_y)/Y[test_index]))"
   ]
  },
  {
   "cell_type": "code",
   "execution_count": 287,
   "metadata": {},
   "outputs": [
    {
     "data": {
      "text/plain": [
       "(-0.2100922490871883,\n",
       " 5.9663771609769454e-05,\n",
       " 4.984185029925866e-09,\n",
       " 0.02457665056753315)"
      ]
     },
     "execution_count": 287,
     "metadata": {},
     "output_type": "execute_result"
    }
   ],
   "source": [
    "Y = data['连铸正样C'].values\n",
    "clf = linear_model.LinearRegression()\n",
    "ki = 8\n",
    "kf = KFold(n_splits=ki)\n",
    "r2,mae,mse=0,0,0\n",
    "for train_index,test_index in kf.split(X):\n",
    "    clf_C = clf.fit(X[train_index],Y[train_index])\n",
    "    pre_y = clf_C.predict(X[test_index])\n",
    "    r2+=metrics.r2_score(Y[test_index],pre_y)\n",
    "    mae+=metrics.mean_absolute_error(Y[test_index],pre_y)\n",
    "    mse+=metrics.mean_squared_error(Y[test_index],pre_y)\n",
    "r2/ki,mae/ki,mse/ki,np.mean(np.abs((Y[test_index]-pre_y)/Y[test_index]))"
   ]
  },
  {
   "cell_type": "code",
   "execution_count": 288,
   "metadata": {},
   "outputs": [
    {
     "data": {
      "text/plain": [
       "(0.22971568936512532,\n",
       " 2.4039164483591584e-05,\n",
       " 9.160905569484165e-10,\n",
       " 0.07204753970427419)"
      ]
     },
     "execution_count": 288,
     "metadata": {},
     "output_type": "execute_result"
    }
   ],
   "source": [
    "Y = data['连铸正样S'].values\n",
    "clf = linear_model.LinearRegression()\n",
    "ki = 8\n",
    "kf = KFold(n_splits=ki)\n",
    "r2,mae,mse=0,0,0\n",
    "for train_index,test_index in kf.split(X):\n",
    "    clf_S = clf.fit(X[train_index],Y[train_index])\n",
    "    pre_y = clf_S.predict(X[test_index])\n",
    "    r2+=metrics.r2_score(Y[test_index],pre_y)\n",
    "    mae+=metrics.mean_absolute_error(Y[test_index],pre_y)\n",
    "    mse+=metrics.mean_squared_error(Y[test_index],pre_y)\n",
    "r2/ki,mae/ki,mse/ki,np.mean(np.abs((Y[test_index]-pre_y)/Y[test_index]))"
   ]
  },
  {
   "cell_type": "code",
   "execution_count": 289,
   "metadata": {},
   "outputs": [
    {
     "data": {
      "text/plain": [
       "(-0.07093124200899147,\n",
       " 4.448433199415444e-05,\n",
       " 3.0275510127866136e-09,\n",
       " 0.22312579203509067)"
      ]
     },
     "execution_count": 289,
     "metadata": {},
     "output_type": "execute_result"
    }
   ],
   "source": [
    "Y = data['连铸正样P'].values\n",
    "clf = linear_model.BayesianRidge()\n",
    "ki = 8\n",
    "kf = KFold(n_splits=ki)\n",
    "r2,mae,mse=0,0,0\n",
    "for train_index,test_index in kf.split(X):\n",
    "    clf_P = clf.fit(X[train_index],Y[train_index])\n",
    "    pre_y = clf_P.predict(X[test_index])\n",
    "    r2+=metrics.r2_score(Y[test_index],pre_y)\n",
    "    mae+=metrics.mean_absolute_error(Y[test_index],pre_y)\n",
    "    mse+=metrics.mean_squared_error(Y[test_index],pre_y)\n",
    "r2/ki,mae/ki,mse/ki,np.mean(np.abs((Y[test_index]-pre_y)/Y[test_index]))"
   ]
  },
  {
   "cell_type": "code",
   "execution_count": 290,
   "metadata": {},
   "outputs": [
    {
     "data": {
      "text/plain": [
       "(0.11498135556511822,\n",
       " 0.0001410005287122211,\n",
       " 3.100955766429374e-08,\n",
       " 0.03522386820506117)"
      ]
     },
     "execution_count": 290,
     "metadata": {},
     "output_type": "execute_result"
    }
   ],
   "source": [
    "Y = data['连铸正样Si'].values\n",
    "clf = linear_model.LinearRegression()\n",
    "ki = 8\n",
    "kf = KFold(n_splits=ki)\n",
    "r2,mae,mse=0,0,0\n",
    "for train_index,test_index in kf.split(X):\n",
    "    clf_Si = clf.fit(X[train_index],Y[train_index])\n",
    "    pre_y = clf_Si.predict(X[test_index])\n",
    "    r2+=metrics.r2_score(Y[test_index],pre_y)\n",
    "    mae+=metrics.mean_absolute_error(Y[test_index],pre_y)\n",
    "    mse+=metrics.mean_squared_error(Y[test_index],pre_y)\n",
    "r2/ki,mae/ki,mse/ki,np.mean(np.abs((Y[test_index]-pre_y)/Y[test_index]))"
   ]
  },
  {
   "cell_type": "markdown",
   "metadata": {},
   "source": [
    "## 使用常量替代不是配料的变量，计算一吨合金在下列条件下的最低配料费用"
   ]
  },
  {
   "cell_type": "code",
   "execution_count": 291,
   "metadata": {},
   "outputs": [],
   "source": [
    "init_ = [data['转炉终点C'].mean(),data['转炉终点Mn'].mean(),data['转炉终点S'].mean(),data['转炉终点P'].mean(),data['转炉终点Si'].mean(),data['转炉终点温度'].mean(),1000]"
   ]
  },
  {
   "cell_type": "markdown",
   "metadata": {},
   "source": [
    "## 建立线性约束不等式以及目标函数,并优化求解"
   ]
  },
  {
   "cell_type": "code",
   "execution_count": 293,
   "metadata": {},
   "outputs": [
    {
     "data": {
      "text/plain": [
       "     fun: 661570.8133005378\n",
       " message: 'Optimization terminated successfully.'\n",
       "     nit: 13\n",
       "   slack: array([0.00037447, 0.        ])\n",
       "  status: 0\n",
       " success: True\n",
       "       x: array([    0.        ,     0.        ,     0.        ,     0.        ,\n",
       "           0.        ,     0.        ,   980.69353171,     0.        ,\n",
       "           0.        ,     0.        ,   177.99445769,     0.        ,\n",
       "       66524.75305823, 14398.21050284,     0.        ,     0.        ])"
      ]
     },
     "execution_count": 293,
     "metadata": {},
     "output_type": "execute_result"
    }
   ],
   "source": [
    "c = data2['价格(元/吨)'].values/1000 #配料价格作为目标函数系数/kg\n",
    "a = np.array([\n",
    "#     list(clf_C.coef_[7:]),list(-clf_C.coef_[7:]),list(clf_Mn.coef_[7:]),list(-clf_Mn.coef_[7:]),\n",
    "    list(clf_S.coef_[7:]),list(clf_P.coef_[7:])\n",
    "#     ,list(clf_Si.coef_[7:]),list(-clf_Si.coef_[7:])\n",
    "])\n",
    "b = np.array([\n",
    "#     0.0025-sum(clf_C.coef_[:7]*init_),-0.0019+sum(clf_C.coef_[:7]*init_),\n",
    "#     0.016-sum(clf_Mn.coef_[:7]*init_),-0.013+sum(clf_Mn.coef_[:7]*init_),\n",
    "    0.00045-sum(clf_S.coef_[:7]*init_),0.00045-sum(clf_P.coef_[:7]*init_),\n",
    "#     0.0065-sum(clf_Si.coef_[:7]*init_),-0.005+sum(clf_Si.coef_[:7]*init_)\n",
    "])\n",
    "\n",
    "a_ = np.array([\n",
    "    list(clf_C.coef_[7:]),list(clf_Mn.coef_[7:]),\n",
    "#     list(clf_S.coef_[7:]),list(clf_P.coef_[7:])\n",
    "    list(clf_Si.coef_[7:])\n",
    "])\n",
    "b_ = np.array([\n",
    "    0.0023-sum(clf_C.coef_[:7]*init_),\n",
    "    0.0145-sum(clf_Mn.coef_[:7]*init_),\n",
    "#     0.00045-sum(clf_S.coef_[:7]*init_),\n",
    "#     0.00045-sum(clf_P.coef_[:7]*init_),\n",
    "    0.0055-sum(clf_Si.coef_[:7]*init_)\n",
    "])\n",
    "bds = [(0,None)]*len(list(clf_C.coef_[7:]))\n",
    "optimize.linprog(c,A_ub=a,b_ub=b,bounds=bds,A_eq=a_,b_eq=b_)"
   ]
  }
 ],
 "metadata": {
  "kernelspec": {
   "display_name": "Python 3",
   "language": "python",
   "name": "python3"
  },
  "language_info": {
   "codemirror_mode": {
    "name": "ipython",
    "version": 3
   },
   "file_extension": ".py",
   "mimetype": "text/x-python",
   "name": "python",
   "nbconvert_exporter": "python",
   "pygments_lexer": "ipython3",
   "version": "3.7.0"
  }
 },
 "nbformat": 4,
 "nbformat_minor": 2
}

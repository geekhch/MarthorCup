{
 "cells": [
  {
   "cell_type": "code",
   "execution_count": 3,
   "metadata": {},
   "outputs": [],
   "source": [
    "import numpy as np\n",
    "from sklearn import tree,metrics,svm,ensemble,neighbors\n",
    "import pandas as pd\n",
    "from sklearn.model_selection import train_test_split\n",
    "from sklearn import linear_model\n",
    "import xgboost as xgb\n",
    "from sklearn.preprocessing import PolynomialFeatures\n",
    "from sklearn.pipeline import Pipeline"
   ]
  },
  {
   "cell_type": "markdown",
   "metadata": {},
   "source": [
    "### 去掉缺失值较多的列"
   ]
  },
  {
   "cell_type": "code",
   "execution_count": 4,
   "metadata": {},
   "outputs": [],
   "source": [
    "nume = ['转炉终点温度', '转炉终点C', '转炉终点S',\n",
    "       '转炉终点Si', '钢水净重', '连铸正样C', '连铸正样Mn', '连铸正样S', '连铸正样P', '连铸正样Si',\n",
    "       '连铸正样Ceq_val', '连铸正样Cr', '连铸正样Ni_val', '连铸正样Cu_val',\n",
    "       '连铸正样V_val', '连铸正样Alt_val', '连铸正样Als_val', '连铸正样Mo_val', '连铸正样Ti_val', '氮化钒铁FeV55N11-A', '低铝硅铁',\n",
    "       '钒氮合金(进口)', '钒铁(FeV50-A)', '钒铁(FeV50-B)', '钒铁(FeV50-B).1', '硅铝钙',\n",
    "       '硅铝合金FeAl30Si25', '硅铝锰合金球', '硅锰面（硅锰渣）', '硅铁(合格块)', '硅铁FeSi75-B',\n",
    "       '石油焦增碳剂', '锰硅合金FeMn64Si27(合格块)', '锰硅合金FeMn68Si18(合格块)', '碳化硅(55%)',\n",
    "       '硅钙碳脱氧剂']"
   ]
  },
  {
   "cell_type": "markdown",
   "metadata": {},
   "source": [
    "### 缺失值处理、归一化"
   ]
  },
  {
   "cell_type": "code",
   "execution_count": 41,
   "metadata": {},
   "outputs": [
    {
     "data": {
      "text/plain": [
       "809"
      ]
     },
     "execution_count": 41,
     "metadata": {},
     "output_type": "execute_result"
    }
   ],
   "source": [
    "CTrain = pd.read_excel('q1_1_收得率.xls')[nume+['C收得率']]\n",
    "# CTrain = CTrain.dropna()\n",
    "CTrain = CTrain.drop(CTrain[CTrain['C收得率'].isnull()].index)\n",
    "CTrain = CTrain.fillna(CTrain.mean())\n",
    "X = CTrain[nume] #[['钢水净重','连铸正样C', '连铸正样Ceq_val', '低铝硅铁','石油焦增碳剂']]\n",
    "Y = CTrain[['C收得率']]\n",
    "X = X[nume].apply(lambda x: (x - np.min(x)) / (np.max(x) - np.min(x)+1e-10))\n",
    "len(CTrain.values)"
   ]
  },
  {
   "cell_type": "code",
   "execution_count": 52,
   "metadata": {},
   "outputs": [],
   "source": [
    "# Y.sort_values('C收得率')"
   ]
  },
  {
   "cell_type": "code",
   "execution_count": 6,
   "metadata": {},
   "outputs": [],
   "source": [
    "# #缺失值数量统计\n",
    "# CTrain.isnull().sum()"
   ]
  },
  {
   "cell_type": "code",
   "execution_count": 7,
   "metadata": {},
   "outputs": [
    {
     "data": {
      "text/html": [
       "<div>\n",
       "<style scoped>\n",
       "    .dataframe tbody tr th:only-of-type {\n",
       "        vertical-align: middle;\n",
       "    }\n",
       "\n",
       "    .dataframe tbody tr th {\n",
       "        vertical-align: top;\n",
       "    }\n",
       "\n",
       "    .dataframe thead th {\n",
       "        text-align: right;\n",
       "    }\n",
       "</style>\n",
       "<table border=\"1\" class=\"dataframe\">\n",
       "  <thead>\n",
       "    <tr style=\"text-align: right;\">\n",
       "      <th></th>\n",
       "      <th>转炉终点温度</th>\n",
       "      <th>转炉终点C</th>\n",
       "      <th>转炉终点S</th>\n",
       "      <th>转炉终点Si</th>\n",
       "      <th>钢水净重</th>\n",
       "      <th>连铸正样C</th>\n",
       "      <th>连铸正样Mn</th>\n",
       "      <th>连铸正样S</th>\n",
       "      <th>连铸正样P</th>\n",
       "      <th>连铸正样Si</th>\n",
       "      <th>...</th>\n",
       "      <th>硅铝锰合金球</th>\n",
       "      <th>硅锰面（硅锰渣）</th>\n",
       "      <th>硅铁(合格块)</th>\n",
       "      <th>硅铁FeSi75-B</th>\n",
       "      <th>石油焦增碳剂</th>\n",
       "      <th>锰硅合金FeMn64Si27(合格块)</th>\n",
       "      <th>锰硅合金FeMn68Si18(合格块)</th>\n",
       "      <th>碳化硅(55%)</th>\n",
       "      <th>硅钙碳脱氧剂</th>\n",
       "      <th>C收得率</th>\n",
       "    </tr>\n",
       "  </thead>\n",
       "  <tbody>\n",
       "    <tr>\n",
       "      <th>0</th>\n",
       "      <td>1644.0</td>\n",
       "      <td>0.00065</td>\n",
       "      <td>0.0003</td>\n",
       "      <td>0.004</td>\n",
       "      <td>74400.0</td>\n",
       "      <td>0.0023</td>\n",
       "      <td>0.0133</td>\n",
       "      <td>0.0003</td>\n",
       "      <td>0.00019</td>\n",
       "      <td>0.0033</td>\n",
       "      <td>...</td>\n",
       "      <td>0</td>\n",
       "      <td>0</td>\n",
       "      <td>0</td>\n",
       "      <td>0</td>\n",
       "      <td>85</td>\n",
       "      <td>1547</td>\n",
       "      <td>0</td>\n",
       "      <td>88</td>\n",
       "      <td>0</td>\n",
       "      <td>0.91408</td>\n",
       "    </tr>\n",
       "  </tbody>\n",
       "</table>\n",
       "<p>1 rows × 37 columns</p>\n",
       "</div>"
      ],
      "text/plain": [
       "   转炉终点温度    转炉终点C   转炉终点S  转炉终点Si     钢水净重   连铸正样C  连铸正样Mn   连铸正样S    连铸正样P  \\\n",
       "0  1644.0  0.00065  0.0003   0.004  74400.0  0.0023  0.0133  0.0003  0.00019   \n",
       "\n",
       "   连铸正样Si   ...     硅铝锰合金球  硅锰面（硅锰渣）  硅铁(合格块)  硅铁FeSi75-B  石油焦增碳剂  \\\n",
       "0  0.0033   ...          0         0        0           0      85   \n",
       "\n",
       "   锰硅合金FeMn64Si27(合格块)  锰硅合金FeMn68Si18(合格块)  碳化硅(55%)  硅钙碳脱氧剂     C收得率  \n",
       "0                 1547                    0        88       0  0.91408  \n",
       "\n",
       "[1 rows x 37 columns]"
      ]
     },
     "execution_count": 7,
     "metadata": {},
     "output_type": "execute_result"
    }
   ],
   "source": [
    "CTrain.head(1)"
   ]
  },
  {
   "cell_type": "code",
   "execution_count": 8,
   "metadata": {},
   "outputs": [],
   "source": [
    "train_data, test_data, train_target, test_target = train_test_split(X.values,Y.values,test_size=0.2)"
   ]
  },
  {
   "cell_type": "markdown",
   "metadata": {},
   "source": [
    "### 决策树回归"
   ]
  },
  {
   "cell_type": "code",
   "execution_count": 9,
   "metadata": {},
   "outputs": [
    {
     "data": {
      "text/plain": [
       "(0.4545824944005028, 0.07108884541492747, 0.012894716809077464)"
      ]
     },
     "execution_count": 9,
     "metadata": {},
     "output_type": "execute_result"
    }
   ],
   "source": [
    "clf = tree.DecisionTreeRegressor() \n",
    "clf = clf.fit(train_data,train_target)\n",
    "pre_y = clf.predict(test_data)\n",
    "metrics.r2_score(pre_y,test_target),metrics.mean_absolute_error(pre_y,test_target),metrics.mean_squared_error(pre_y,test_target)"
   ]
  },
  {
   "cell_type": "markdown",
   "metadata": {},
   "source": [
    "以上三个值分别为R2决定系数、平均绝对误差、平均平方误差"
   ]
  },
  {
   "cell_type": "markdown",
   "metadata": {},
   "source": [
    "### 线性回归"
   ]
  },
  {
   "cell_type": "code",
   "execution_count": 10,
   "metadata": {},
   "outputs": [
    {
     "data": {
      "text/plain": [
       "(0.9099656684715688, 0.026216298410962006, 0.0015440533035037253)"
      ]
     },
     "execution_count": 10,
     "metadata": {},
     "output_type": "execute_result"
    }
   ],
   "source": [
    "clf = linear_model.LinearRegression()\n",
    "clf = clf.fit(train_data,train_target)\n",
    "pre_y = clf.predict(test_data)\n",
    "metrics.r2_score(pre_y,test_target),metrics.mean_absolute_error(pre_y,test_target),metrics.mean_squared_error(pre_y,test_target)"
   ]
  },
  {
   "cell_type": "markdown",
   "metadata": {},
   "source": [
    "### SVM"
   ]
  },
  {
   "cell_type": "code",
   "execution_count": 11,
   "metadata": {},
   "outputs": [
    {
     "data": {
      "text/plain": [
       "(-4.833931069624149, 0.059188343217189535, 0.010268864380762696)"
      ]
     },
     "execution_count": 11,
     "metadata": {},
     "output_type": "execute_result"
    }
   ],
   "source": [
    "clf = svm.SVR(gamma='auto')\n",
    "clf = clf.fit(train_data,train_target.flatten())\n",
    "pre_y = clf.predict(test_data)\n",
    "metrics.r2_score(pre_y,test_target),metrics.mean_absolute_error(pre_y,test_target),metrics.mean_squared_error(pre_y,test_target)"
   ]
  },
  {
   "cell_type": "markdown",
   "metadata": {},
   "source": [
    "### 贝叶斯"
   ]
  },
  {
   "cell_type": "code",
   "execution_count": 12,
   "metadata": {},
   "outputs": [
    {
     "data": {
      "text/plain": [
       "(0.9084454994407186, 0.026243963888284323, 0.0015575216199905776)"
      ]
     },
     "execution_count": 12,
     "metadata": {},
     "output_type": "execute_result"
    }
   ],
   "source": [
    "clf = linear_model.BayesianRidge()\n",
    "clf = clf.fit(train_data,train_target.flatten())\n",
    "pre_y = clf.predict(test_data)\n",
    "metrics.r2_score(pre_y,test_target),metrics.mean_absolute_error(pre_y,test_target),metrics.mean_squared_error(pre_y,test_target)"
   ]
  },
  {
   "cell_type": "markdown",
   "metadata": {},
   "source": [
    "### 集成"
   ]
  },
  {
   "cell_type": "code",
   "execution_count": 13,
   "metadata": {},
   "outputs": [
    {
     "data": {
      "text/plain": [
       "(0.4159079879234169, 0.05607651348284832, 0.005736917959389787)"
      ]
     },
     "execution_count": 13,
     "metadata": {},
     "output_type": "execute_result"
    }
   ],
   "source": [
    "clf = ensemble.GradientBoostingRegressor(n_estimators=100, learning_rate=0.1,max_depth=1, random_state=0, loss='ls')\n",
    "clf = clf.fit(train_data,train_target.flatten().astype(np.float32))\n",
    "pre_y = clf.predict(test_data)\n",
    "metrics.r2_score(pre_y,test_target),metrics.mean_absolute_error(pre_y,test_target),metrics.mean_squared_error(pre_y,test_target)"
   ]
  },
  {
   "cell_type": "markdown",
   "metadata": {},
   "source": [
    "### 多项式回归（效果最好）"
   ]
  },
  {
   "cell_type": "code",
   "execution_count": 15,
   "metadata": {},
   "outputs": [
    {
     "data": {
      "text/plain": [
       "(0.9678501751849449, 0.011652294332522305, 0.00046880457138652877)"
      ]
     },
     "execution_count": 15,
     "metadata": {},
     "output_type": "execute_result"
    }
   ],
   "source": [
    "model = Pipeline([('poly', PolynomialFeatures(degree=2)),('linear', linear_model.LinearRegression(fit_intercept=False))])\n",
    "clf = model.fit(train_data,train_target.flatten().astype(np.float32))\n",
    "pre_y = clf.predict(test_data)\n",
    "metrics.r2_score(pre_y,test_target),metrics.mean_absolute_error(pre_y,test_target),metrics.mean_squared_error(pre_y,test_target)"
   ]
  },
  {
   "cell_type": "markdown",
   "metadata": {},
   "source": [
    "# Mn元素预测"
   ]
  },
  {
   "cell_type": "markdown",
   "metadata": {},
   "source": [
    "### 数据预处理"
   ]
  },
  {
   "cell_type": "code",
   "execution_count": 43,
   "metadata": {},
   "outputs": [],
   "source": [
    "nume = ['转炉终点温度', '转炉终点C', '转炉终点Mn', '转炉终点S',\n",
    "       '转炉终点Si', '钢水净重', '连铸正样C', '连铸正样Mn', '连铸正样S', '连铸正样P', '连铸正样Si',\n",
    "       '连铸正样Ceq_val', '连铸正样Cr', '连铸正样Ni_val', '连铸正样Cu_val',\n",
    "       '连铸正样V_val', '连铸正样Alt_val', '连铸正样Als_val', '连铸正样Mo_val', '连铸正样Ti_val', '氮化钒铁FeV55N11-A', '低铝硅铁',\n",
    "       '钒氮合金(进口)', '钒铁(FeV50-A)', '钒铁(FeV50-B)', '钒铁(FeV50-B).1', '硅铝钙',\n",
    "       '硅铝合金FeAl30Si25', '硅铝锰合金球', '硅锰面（硅锰渣）', '硅铁(合格块)', '硅铁FeSi75-B',\n",
    "       '石油焦增碳剂', '锰硅合金FeMn64Si27(合格块)', '锰硅合金FeMn68Si18(合格块)', '碳化硅(55%)',\n",
    "       '硅钙碳脱氧剂']"
   ]
  },
  {
   "cell_type": "code",
   "execution_count": 49,
   "metadata": {},
   "outputs": [
    {
     "data": {
      "text/plain": [
       "806"
      ]
     },
     "execution_count": 49,
     "metadata": {},
     "output_type": "execute_result"
    }
   ],
   "source": [
    "\n",
    "MnTrain = pd.read_excel('data1.xlsx')[nume]\n",
    "# Mn初始含量较低，对反应收得率影响小，使用均值替换缺失值\n",
    "MnTrain[['转炉终点Mn']] = MnTrain[['转炉终点Mn']].fillna(MnTrain[['转炉终点Mn']].mean())\n",
    "# 去掉为对合金化后合金钢采样的数据\n",
    "MnTrain = MnTrain.drop(MnTrain[MnTrain['连铸正样Mn'].isnull()].index)\n",
    "# 使用均值替代少量的缺失值\n",
    "MnTrain[nume] = MnTrain[nume].fillna(MnTrain[nume].mean())\n",
    "# 重新计算Mn收得率\n",
    "mn_t=['硅铝锰合金球','硅锰面（硅锰渣）','锰硅合金FeMn64Si27(合格块)','锰硅合金FeMn68Si18(合格块)']\n",
    "mn_p = [0.3,0.664,0.664,0.664]\n",
    "mn_total=(MnTrain[mn_t]*mn_p).sum(axis=1)\n",
    "mn_comsu=(MnTrain['连铸正样Mn']-MnTrain['转炉终点Mn'])*MnTrain['钢水净重']\n",
    "MnTrain['Mn收得率']=mn_comsu/(mn_total)\n",
    "# 删掉异常数据\n",
    "MnTrain = MnTrain.drop(MnTrain[MnTrain['Mn收得率']>1.5].index)\n",
    "# 构造训练数据并对自变量值进行归一化\n",
    "X = MnTrain[nume].apply(lambda x: (x - np.min(x)) / (np.max(x) - np.min(x)+1e-9))\n",
    "Y = MnTrain[['Mn收得率']]\n",
    "train_data, test_data, train_target, test_target = train_test_split(X.values,Y.values,test_size=0.2)\n",
    "len(MnTrain.values)"
   ]
  },
  {
   "cell_type": "code",
   "execution_count": 50,
   "metadata": {},
   "outputs": [],
   "source": [
    "# MnTrain #.isnull().sum()\n",
    "# Y.sort_values('Mn收得率')"
   ]
  },
  {
   "cell_type": "markdown",
   "metadata": {},
   "source": [
    "### 多项式拟合"
   ]
  },
  {
   "cell_type": "code",
   "execution_count": 51,
   "metadata": {},
   "outputs": [
    {
     "data": {
      "text/plain": [
       "(0.9369424067890961, 0.004281502887929982, 0.00022901577802675197)"
      ]
     },
     "execution_count": 51,
     "metadata": {},
     "output_type": "execute_result"
    }
   ],
   "source": [
    "model = Pipeline([('poly', PolynomialFeatures(degree=2)),('linear', linear_model.LinearRegression(fit_intercept=False))])\n",
    "clf = model.fit(train_data,train_target.flatten().astype(np.float32))\n",
    "pre_y = clf.predict(test_data)\n",
    "metrics.r2_score(pre_y,test_target),metrics.mean_absolute_error(pre_y,test_target),metrics.mean_squared_error(pre_y,test_target)"
   ]
  },
  {
   "cell_type": "code",
   "execution_count": null,
   "metadata": {},
   "outputs": [],
   "source": []
  }
 ],
 "metadata": {
  "kernelspec": {
   "display_name": "Python 3",
   "language": "python",
   "name": "python3"
  },
  "language_info": {
   "codemirror_mode": {
    "name": "ipython",
    "version": 3
   },
   "file_extension": ".py",
   "mimetype": "text/x-python",
   "name": "python",
   "nbconvert_exporter": "python",
   "pygments_lexer": "ipython3",
   "version": "3.7.0"
  }
 },
 "nbformat": 4,
 "nbformat_minor": 2
}

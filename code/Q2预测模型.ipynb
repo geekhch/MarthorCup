{
 "cells": [
  {
   "cell_type": "code",
   "execution_count": 15,
   "metadata": {},
   "outputs": [],
   "source": [
    "import numpy as np\n",
    "from sklearn import tree,metrics,svm,ensemble,neighbors\n",
    "import pandas as pd\n",
    "from sklearn.model_selection import train_test_split,KFold\n",
    "from sklearn import linear_model\n",
    "import xgboost as xgb\n",
    "from sklearn.preprocessing import PolynomialFeatures\n",
    "from sklearn.pipeline import Pipeline\n",
    "import matplotlib.pyplot as plt"
   ]
  },
  {
   "cell_type": "markdown",
   "metadata": {},
   "source": [
    "### 去掉缺失值较多的列"
   ]
  },
  {
   "cell_type": "code",
   "execution_count": 20,
   "metadata": {},
   "outputs": [],
   "source": [
    "nume = ['转炉终点温度', '转炉终点C', '转炉终点S',\n",
    "        '钢水净重', '氮化钒铁FeV55N11-A', '低铝硅铁',\n",
    "       '钒氮合金(进口)', '钒铁(FeV50-A)', '钒铁(FeV50-B)', '钒铁(FeV50-B).1', '硅铝钙',\n",
    "       '硅铝合金FeAl30Si25', '硅铝锰合金球', '硅锰面（硅锰渣）', '硅铁(合格块)', '硅铁FeSi75-B',\n",
    "       '石油焦增碳剂', '锰硅合金FeMn64Si27(合格块)', '锰硅合金FeMn68Si18(合格块)', '碳化硅(55%)',\n",
    "       '硅钙碳脱氧剂']"
   ]
  },
  {
   "cell_type": "markdown",
   "metadata": {},
   "source": [
    "### 缺失值处理、归一化"
   ]
  },
  {
   "cell_type": "code",
   "execution_count": 31,
   "metadata": {},
   "outputs": [
    {
     "data": {
      "text/plain": [
       "675"
      ]
     },
     "execution_count": 31,
     "metadata": {},
     "output_type": "execute_result"
    }
   ],
   "source": [
    "CTrain = pd.read_excel('q1_1_收得率.xls')[nume+['C收得率']]\n",
    "# CTrain = CTrain.dropna()\n",
    "CTrain = CTrain.drop(CTrain[CTrain['C收得率'].isnull()].index)\n",
    "# 离群值处理\n",
    "outs=['转炉终点温度', '转炉终点C','钢水净重']\n",
    "for out in outs:\n",
    "    CTrain.drop(CTrain[(CTrain[out]>(CTrain[out].mean()+3*CTrain[out].std()))|(CTrain[out]<(CTrain[out].mean()-3*CTrain[out].std()))].index,inplace=True)\n",
    "    \n",
    "CTrain = CTrain.fillna(CTrain.mean())\n",
    "X = CTrain[nume] #[['钢水净重','连铸正样C', '连铸正样Ceq_val', '低铝硅铁','石油焦增碳剂']]\n",
    "X = X[nume].apply(lambda x: (x - np.min(x)) / (np.max(x) - np.min(x)+1e-10)).values\n",
    "Y = CTrain[['C收得率']].values\n",
    "len(CTrain.values)"
   ]
  },
  {
   "cell_type": "code",
   "execution_count": 32,
   "metadata": {},
   "outputs": [
    {
     "ename": "IndexError",
     "evalue": "only integers, slices (`:`), ellipsis (`...`), numpy.newaxis (`None`) and integer or boolean arrays are valid indices",
     "output_type": "error",
     "traceback": [
      "\u001b[1;31m---------------------------------------------------------------------------\u001b[0m",
      "\u001b[1;31mIndexError\u001b[0m                                Traceback (most recent call last)",
      "\u001b[1;32m<ipython-input-32-034db418a7dd>\u001b[0m in \u001b[0;36m<module>\u001b[1;34m()\u001b[0m\n\u001b[0;32m      1\u001b[0m \u001b[1;31m# cget = (CTrain['C收得率']-CTrain['C收得率'].min())/(CTrain['C收得率'].max()-CTrain['C收得率'].min())\u001b[0m\u001b[1;33m\u001b[0m\u001b[1;33m\u001b[0m\u001b[0m\n\u001b[1;32m----> 2\u001b[1;33m \u001b[0mplt\u001b[0m\u001b[1;33m.\u001b[0m\u001b[0mplot\u001b[0m\u001b[1;33m(\u001b[0m\u001b[0mX\u001b[0m\u001b[1;33m[\u001b[0m\u001b[1;34m'钢水净重'\u001b[0m\u001b[1;33m]\u001b[0m\u001b[1;33m[\u001b[0m\u001b[1;33m:\u001b[0m\u001b[1;33m:\u001b[0m\u001b[1;36m50\u001b[0m\u001b[1;33m]\u001b[0m\u001b[1;33m)\u001b[0m\u001b[1;33m\u001b[0m\u001b[0m\n\u001b[0m\u001b[0;32m      3\u001b[0m \u001b[0mplt\u001b[0m\u001b[1;33m.\u001b[0m\u001b[0mplot\u001b[0m\u001b[1;33m(\u001b[0m\u001b[0mCTrain\u001b[0m\u001b[1;33m[\u001b[0m\u001b[1;34m'C收得率'\u001b[0m\u001b[1;33m]\u001b[0m\u001b[1;33m[\u001b[0m\u001b[1;33m:\u001b[0m\u001b[1;33m:\u001b[0m\u001b[1;36m50\u001b[0m\u001b[1;33m]\u001b[0m\u001b[1;33m)\u001b[0m\u001b[1;33m\u001b[0m\u001b[0m\n",
      "\u001b[1;31mIndexError\u001b[0m: only integers, slices (`:`), ellipsis (`...`), numpy.newaxis (`None`) and integer or boolean arrays are valid indices"
     ]
    }
   ],
   "source": [
    "# cget = (CTrain['C收得率']-CTrain['C收得率'].min())/(CTrain['C收得率'].max()-CTrain['C收得率'].min())\n",
    "plt.plot(X['钢水净重'][::50])\n",
    "plt.plot(CTrain['C收得率'][::50])"
   ]
  },
  {
   "cell_type": "code",
   "execution_count": 33,
   "metadata": {},
   "outputs": [],
   "source": [
    "# #缺失值数量统计\n",
    "# CTrain.isnull().sum()"
   ]
  },
  {
   "cell_type": "code",
   "execution_count": 34,
   "metadata": {},
   "outputs": [
    {
     "data": {
      "text/html": [
       "<div>\n",
       "<style scoped>\n",
       "    .dataframe tbody tr th:only-of-type {\n",
       "        vertical-align: middle;\n",
       "    }\n",
       "\n",
       "    .dataframe tbody tr th {\n",
       "        vertical-align: top;\n",
       "    }\n",
       "\n",
       "    .dataframe thead th {\n",
       "        text-align: right;\n",
       "    }\n",
       "</style>\n",
       "<table border=\"1\" class=\"dataframe\">\n",
       "  <thead>\n",
       "    <tr style=\"text-align: right;\">\n",
       "      <th></th>\n",
       "      <th>转炉终点温度</th>\n",
       "      <th>转炉终点C</th>\n",
       "      <th>转炉终点S</th>\n",
       "      <th>钢水净重</th>\n",
       "      <th>氮化钒铁FeV55N11-A</th>\n",
       "      <th>低铝硅铁</th>\n",
       "      <th>钒氮合金(进口)</th>\n",
       "      <th>钒铁(FeV50-A)</th>\n",
       "      <th>钒铁(FeV50-B)</th>\n",
       "      <th>钒铁(FeV50-B).1</th>\n",
       "      <th>...</th>\n",
       "      <th>硅铝锰合金球</th>\n",
       "      <th>硅锰面（硅锰渣）</th>\n",
       "      <th>硅铁(合格块)</th>\n",
       "      <th>硅铁FeSi75-B</th>\n",
       "      <th>石油焦增碳剂</th>\n",
       "      <th>锰硅合金FeMn64Si27(合格块)</th>\n",
       "      <th>锰硅合金FeMn68Si18(合格块)</th>\n",
       "      <th>碳化硅(55%)</th>\n",
       "      <th>硅钙碳脱氧剂</th>\n",
       "      <th>C收得率</th>\n",
       "    </tr>\n",
       "  </thead>\n",
       "  <tbody>\n",
       "    <tr>\n",
       "      <th>0</th>\n",
       "      <td>1644.0</td>\n",
       "      <td>0.00065</td>\n",
       "      <td>0.0003</td>\n",
       "      <td>74400.0</td>\n",
       "      <td>0</td>\n",
       "      <td>0</td>\n",
       "      <td>10</td>\n",
       "      <td>0</td>\n",
       "      <td>0</td>\n",
       "      <td>32</td>\n",
       "      <td>...</td>\n",
       "      <td>0</td>\n",
       "      <td>0</td>\n",
       "      <td>0</td>\n",
       "      <td>0</td>\n",
       "      <td>85</td>\n",
       "      <td>1547</td>\n",
       "      <td>0</td>\n",
       "      <td>88</td>\n",
       "      <td>0</td>\n",
       "      <td>0.91408</td>\n",
       "    </tr>\n",
       "  </tbody>\n",
       "</table>\n",
       "<p>1 rows × 22 columns</p>\n",
       "</div>"
      ],
      "text/plain": [
       "   转炉终点温度    转炉终点C   转炉终点S     钢水净重  氮化钒铁FeV55N11-A  低铝硅铁  钒氮合金(进口)  \\\n",
       "0  1644.0  0.00065  0.0003  74400.0               0     0        10   \n",
       "\n",
       "   钒铁(FeV50-A)  钒铁(FeV50-B)  钒铁(FeV50-B).1   ...     硅铝锰合金球  硅锰面（硅锰渣）  \\\n",
       "0            0            0             32   ...          0         0   \n",
       "\n",
       "   硅铁(合格块)  硅铁FeSi75-B  石油焦增碳剂  锰硅合金FeMn64Si27(合格块)  锰硅合金FeMn68Si18(合格块)  \\\n",
       "0        0           0      85                 1547                    0   \n",
       "\n",
       "   碳化硅(55%)  硅钙碳脱氧剂     C收得率  \n",
       "0        88       0  0.91408  \n",
       "\n",
       "[1 rows x 22 columns]"
      ]
     },
     "execution_count": 34,
     "metadata": {},
     "output_type": "execute_result"
    }
   ],
   "source": [
    "CTrain.head(1)"
   ]
  },
  {
   "cell_type": "code",
   "execution_count": 35,
   "metadata": {},
   "outputs": [],
   "source": [
    "# train_data, test_data, train_target, test_target = train_test_split(X.values,Y.values,test_size=0.2)"
   ]
  },
  {
   "cell_type": "markdown",
   "metadata": {},
   "source": [
    "### 决策树回归"
   ]
  },
  {
   "cell_type": "code",
   "execution_count": 36,
   "metadata": {},
   "outputs": [
    {
     "data": {
      "text/plain": [
       "(0.1930373634763301, 0.06826906024644484, 0.009244395599765564)"
      ]
     },
     "execution_count": 36,
     "metadata": {},
     "output_type": "execute_result"
    }
   ],
   "source": [
    "clf = tree.DecisionTreeRegressor() \n",
    "ki = 10\n",
    "kf = KFold(n_splits=ki)\n",
    "r2,mae,mse=0,0,0\n",
    "for train_index,test_index in kf.split(X):\n",
    "    clf = clf.fit(X[train_index],Y[train_index])\n",
    "    pre_y = clf.predict(X[test_index])\n",
    "    r2+=metrics.r2_score(pre_y,Y[test_index])\n",
    "    mae+=metrics.mean_absolute_error(pre_y,Y[test_index])\n",
    "    mse+=metrics.mean_squared_error(pre_y,Y[test_index])\n",
    "r2/ki,mae/ki,mse/ki"
   ]
  },
  {
   "cell_type": "markdown",
   "metadata": {},
   "source": [
    "以上三个值分别为R2决定系数、平均绝对误差、平均平方误差"
   ]
  },
  {
   "cell_type": "markdown",
   "metadata": {},
   "source": [
    "### 线性回归"
   ]
  },
  {
   "cell_type": "code",
   "execution_count": 49,
   "metadata": {},
   "outputs": [
    {
     "data": {
      "text/plain": [
       "(0.6510727874176387, 0.05398487617222576, 0.007646740327618275)"
      ]
     },
     "execution_count": 49,
     "metadata": {},
     "output_type": "execute_result"
    }
   ],
   "source": [
    "clf = linear_model.LinearRegression()\n",
    "ki = 4\n",
    "kf = KFold(n_splits=ki)\n",
    "r2,mae,mse=0,0,0\n",
    "for train_index,test_index in kf.split(X):\n",
    "    clf = clf.fit(X[train_index],Y[train_index])\n",
    "    pre_y = clf.predict(X[test_index])\n",
    "    r2+=metrics.r2_score(pre_y,Y[test_index])\n",
    "    mae+=metrics.mean_absolute_error(pre_y,Y[test_index])\n",
    "    mse+=metrics.mean_squared_error(pre_y,Y[test_index])\n",
    "r2/ki,mae/ki,mse/ki"
   ]
  },
  {
   "cell_type": "code",
   "execution_count": 50,
   "metadata": {},
   "outputs": [
    {
     "name": "stdout",
     "output_type": "stream",
     "text": [
      "转炉终点温度  &  -0.0583\n",
      "转炉终点C  &  -0.8269\n",
      "转炉终点S  &  -0.0\n",
      "钢水净重  &  0.1972\n",
      "氮化钒铁FeV55N11-A  &  -0.0273\n",
      "低铝硅铁  &  0.0\n",
      "钒氮合金(进口)  &  -0.0505\n",
      "钒铁(FeV50-A)  &  -0.0536\n",
      "钒铁(FeV50-B)  &  -0.0\n",
      "钒铁(FeV50-B).1  &  -0.018\n",
      "硅铝钙  &  0.0456\n",
      "硅铝合金FeAl30Si25  &  0.0716\n",
      "硅铝锰合金球  &  0.0\n",
      "硅锰面（硅锰渣）  &  -0.0265\n",
      "硅铁(合格块)  &  -0.0587\n",
      "硅铁FeSi75-B  &  -0.0657\n",
      "石油焦增碳剂  &  -1.1838\n",
      "锰硅合金FeMn64Si27(合格块)  &  -0.1488\n",
      "锰硅合金FeMn68Si18(合格块)  &  -0.3004\n",
      "碳化硅(55%)  &  -0.3613\n",
      "硅钙碳脱氧剂  &  -0.0203\n"
     ]
    }
   ],
   "source": [
    "mapk={}\n",
    "for i in range(len(nume)):\n",
    "    mapk[nume[i]]=np.round(clf.coef_[0][i],4)\n",
    "    print(nume[i],' & ',np.round(clf.coef_[0][i],4))\n",
    "# sorted(mapk.items(),key=lambda item:abs(item[1]))"
   ]
  },
  {
   "cell_type": "markdown",
   "metadata": {},
   "source": [
    "### SVM"
   ]
  },
  {
   "cell_type": "code",
   "execution_count": 115,
   "metadata": {},
   "outputs": [
    {
     "data": {
      "text/plain": [
       "(-8.65583663008972, 0.07186801840350346, 0.021312612558400664)"
      ]
     },
     "execution_count": 115,
     "metadata": {},
     "output_type": "execute_result"
    }
   ],
   "source": [
    "clf = svm.SVR(gamma='auto')\n",
    "ki = 10\n",
    "kf = KFold(n_splits=ki)\n",
    "r2,mae,mse=0,0,0\n",
    "for train_index,test_index in kf.split(X):\n",
    "    clf = clf.fit(X[train_index],Y[train_index].flatten().astype(np.float32))\n",
    "    pre_y = clf.predict(X[test_index])\n",
    "    r2+=metrics.r2_score(pre_y,Y[test_index])\n",
    "    mae+=metrics.mean_absolute_error(pre_y,Y[test_index])\n",
    "    mse+=metrics.mean_squared_error(pre_y,Y[test_index])\n",
    "r2/ki,mae/ki,mse/ki"
   ]
  },
  {
   "cell_type": "markdown",
   "metadata": {},
   "source": [
    "### 贝叶斯"
   ]
  },
  {
   "cell_type": "code",
   "execution_count": 116,
   "metadata": {},
   "outputs": [
    {
     "data": {
      "text/plain": [
       "(0.7253036112410653, 0.05129076141231823, 0.007014272356304013)"
      ]
     },
     "execution_count": 116,
     "metadata": {},
     "output_type": "execute_result"
    }
   ],
   "source": [
    "clf = linear_model.BayesianRidge()\n",
    "ki = 10\n",
    "kf = KFold(n_splits=ki)\n",
    "r2,mae,mse=0,0,0\n",
    "for train_index,test_index in kf.split(X):\n",
    "    clf = clf.fit(X[train_index],Y[train_index].flatten().astype(np.float32))\n",
    "    pre_y = clf.predict(X[test_index])\n",
    "    r2+=metrics.r2_score(pre_y,Y[test_index])\n",
    "    mae+=metrics.mean_absolute_error(pre_y,Y[test_index])\n",
    "    mse+=metrics.mean_squared_error(pre_y,Y[test_index])\n",
    "r2/ki,mae/ki,mse/ki"
   ]
  },
  {
   "cell_type": "markdown",
   "metadata": {},
   "source": [
    "### 集成"
   ]
  },
  {
   "cell_type": "code",
   "execution_count": 117,
   "metadata": {},
   "outputs": [
    {
     "data": {
      "text/plain": [
       "(-4.7422051817938025, 0.0676403737755625, 0.014364091183925379)"
      ]
     },
     "execution_count": 117,
     "metadata": {},
     "output_type": "execute_result"
    }
   ],
   "source": [
    "clf = ensemble.GradientBoostingRegressor(n_estimators=100, learning_rate=0.1,max_depth=1, random_state=0, loss='ls')\n",
    "ki = 10\n",
    "kf = KFold(n_splits=ki)\n",
    "r2,mae,mse=0,0,0\n",
    "for train_index,test_index in kf.split(X):\n",
    "    clf = clf.fit(X[train_index],Y[train_index].flatten().astype(np.float32))\n",
    "    pre_y = clf.predict(X[test_index])\n",
    "    r2+=metrics.r2_score(pre_y,Y[test_index])\n",
    "    mae+=metrics.mean_absolute_error(pre_y,Y[test_index])\n",
    "    mse+=metrics.mean_squared_error(pre_y,Y[test_index])\n",
    "r2/ki,mae/ki,mse/ki"
   ]
  },
  {
   "cell_type": "markdown",
   "metadata": {},
   "source": [
    "### 多项式回归（emm）"
   ]
  },
  {
   "cell_type": "code",
   "execution_count": 142,
   "metadata": {},
   "outputs": [
    {
     "data": {
      "text/plain": [
       "(0.3879215510059947, 0.02707291549838986, 0.005211886775480099)"
      ]
     },
     "execution_count": 142,
     "metadata": {},
     "output_type": "execute_result"
    }
   ],
   "source": [
    "clf = Pipeline([('poly', PolynomialFeatures(degree=2)),('linear', linear_model.LinearRegression(fit_intercept=False))])\n",
    "ki = 10\n",
    "kf = KFold(n_splits=ki)\n",
    "r2,mae,mse=0,0,0\n",
    "for train_index,test_index in kf.split(X):\n",
    "    clf = clf.fit(X[train_index],Y[train_index].flatten().astype(np.float32))\n",
    "    pre_y = clf.predict(X[test_index])\n",
    "    r2+=metrics.r2_score(pre_y,Y[test_index])\n",
    "    mae+=metrics.mean_absolute_error(pre_y,Y[test_index])\n",
    "    mse+=metrics.mean_squared_error(pre_y,Y[test_index])\n",
    "r2/ki,mae/ki,mse/ki"
   ]
  },
  {
   "cell_type": "markdown",
   "metadata": {},
   "source": [
    "# Mn元素预测"
   ]
  },
  {
   "cell_type": "markdown",
   "metadata": {},
   "source": [
    "### 数据预处理"
   ]
  },
  {
   "cell_type": "code",
   "execution_count": 123,
   "metadata": {},
   "outputs": [],
   "source": [
    "nume = ['转炉终点温度', '转炉终点C', '转炉终点Mn', '转炉终点S',\n",
    "       '转炉终点Si', '钢水净重', '连铸正样Mn', \n",
    "#         '连铸正样C','连铸正样S', '连铸正样P', '连铸正样Si',\n",
    "#        '连铸正样Ceq_val', '连铸正样Cr', '连铸正样Ni_val', '连铸正样Cu_val',\n",
    "#        '连铸正样V_val', '连铸正样Alt_val', '连铸正样Als_val', '连铸正样Mo_val', '连铸正样Ti_val',\n",
    "        '氮化钒铁FeV55N11-A', '低铝硅铁',\n",
    "       '钒氮合金(进口)', '钒铁(FeV50-A)', '钒铁(FeV50-B)', '钒铁(FeV50-B).1', '硅铝钙',\n",
    "       '硅铝合金FeAl30Si25', '硅铝锰合金球', '硅锰面（硅锰渣）', '硅铁(合格块)', '硅铁FeSi75-B',\n",
    "       '石油焦增碳剂', '锰硅合金FeMn64Si27(合格块)', '锰硅合金FeMn68Si18(合格块)', '碳化硅(55%)',\n",
    "       '硅钙碳脱氧剂']"
   ]
  },
  {
   "cell_type": "code",
   "execution_count": 131,
   "metadata": {},
   "outputs": [
    {
     "data": {
      "text/plain": [
       "806"
      ]
     },
     "execution_count": 131,
     "metadata": {},
     "output_type": "execute_result"
    }
   ],
   "source": [
    "\n",
    "MnTrain = pd.read_excel('data1.xlsx')[nume]\n",
    "# Mn初始含量较低，对反应收得率影响小，使用均值替换缺失值\n",
    "MnTrain[['转炉终点Mn']] = MnTrain[['转炉终点Mn']].fillna(MnTrain[['转炉终点Mn']].mean())\n",
    "# 去掉为对合金化后合金钢采样的数据\n",
    "MnTrain = MnTrain.drop(MnTrain[MnTrain['连铸正样Mn'].isnull()].index)\n",
    "# 使用均值替代少量的缺失值\n",
    "MnTrain[nume] = MnTrain[nume].fillna(MnTrain[nume].mean())\n",
    "# 重新计算Mn收得率\n",
    "mn_t=['硅铝锰合金球','硅锰面（硅锰渣）','锰硅合金FeMn64Si27(合格块)','锰硅合金FeMn68Si18(合格块)']\n",
    "mn_p = [0.3,0.664,0.664,0.664]\n",
    "mn_total=(MnTrain[mn_t]*mn_p).sum(axis=1)\n",
    "mn_comsu=(MnTrain['连铸正样Mn']-MnTrain['转炉终点Mn'])*MnTrain['钢水净重']\n",
    "MnTrain['Mn收得率']=mn_comsu/(mn_total)\n",
    "# 删掉异常数据\n",
    "MnTrain = MnTrain.drop(MnTrain[MnTrain['Mn收得率']>1.5].index)\n",
    "\n",
    "# 构造训练数据并对自变量值进行归一化\n",
    "X = MnTrain[nume].apply(lambda x: (x - np.min(x)) / (np.max(x) - np.min(x)+1e-9))\n",
    "X.drop('连铸正样Mn',axis=1,inplace=True)\n",
    "X=X.values\n",
    "Y = MnTrain[['Mn收得率']].values\n",
    "# train_data, test_data, train_target, test_target = train_test_split(X.values,Y.values,test_size=0.2)\n",
    "len(Y)"
   ]
  },
  {
   "cell_type": "code",
   "execution_count": 132,
   "metadata": {},
   "outputs": [],
   "source": [
    "# MnTrain #.isnull().sum()\n",
    "# Y.sort_values('Mn收得率')"
   ]
  },
  {
   "cell_type": "markdown",
   "metadata": {},
   "source": [
    "### 多项式拟合"
   ]
  },
  {
   "cell_type": "code",
   "execution_count": 133,
   "metadata": {},
   "outputs": [
    {
     "data": {
      "text/plain": [
       "(0.3879215510059947, 0.02707291549838986, 0.005211886775480099)"
      ]
     },
     "execution_count": 133,
     "metadata": {},
     "output_type": "execute_result"
    }
   ],
   "source": [
    "clf = Pipeline([('poly', PolynomialFeatures(degree=2)),('linear', linear_model.LinearRegression(fit_intercept=False))])\n",
    "ki = 10\n",
    "kf = KFold(n_splits=ki)\n",
    "r2,mae,mse=0,0,0\n",
    "for train_index,test_index in kf.split(X):\n",
    "    clf = clf.fit(X[train_index],Y[train_index].flatten().astype(np.float32))\n",
    "    pre_y = clf.predict(X[test_index])\n",
    "    r2+=metrics.r2_score(pre_y,Y[test_index])\n",
    "    mae+=metrics.mean_absolute_error(pre_y,Y[test_index])\n",
    "    mse+=metrics.mean_squared_error(pre_y,Y[test_index])\n",
    "r2/ki,mae/ki,mse/ki"
   ]
  },
  {
   "cell_type": "code",
   "execution_count": 134,
   "metadata": {},
   "outputs": [
    {
     "data": {
      "text/plain": [
       "(0.7665944406236005, 0.01985469961618021, 0.0006363330418710109)"
      ]
     },
     "execution_count": 134,
     "metadata": {},
     "output_type": "execute_result"
    }
   ],
   "source": [
    "clf = linear_model.BayesianRidge()\n",
    "clf = clf.fit(train_data,train_target.flatten())\n",
    "pre_y = clf.predict(test_data)\n",
    "metrics.r2_score(pre_y,test_target),metrics.mean_absolute_error(pre_y,test_target),metrics.mean_squared_error(pre_y,test_target)"
   ]
  },
  {
   "cell_type": "code",
   "execution_count": 135,
   "metadata": {},
   "outputs": [
    {
     "data": {
      "text/plain": [
       "(0.7694490019351065, 0.019862032631819064, 0.0006372677598641945)"
      ]
     },
     "execution_count": 135,
     "metadata": {},
     "output_type": "execute_result"
    }
   ],
   "source": [
    "clf = linear_model.LinearRegression()\n",
    "clf = clf.fit(train_data,train_target)\n",
    "pre_y = clf.predict(test_data)\n",
    "metrics.r2_score(pre_y,test_target),metrics.mean_absolute_error(pre_y,test_target),metrics.mean_squared_error(pre_y,test_target)"
   ]
  },
  {
   "cell_type": "code",
   "execution_count": null,
   "metadata": {},
   "outputs": [],
   "source": []
  }
 ],
 "metadata": {
  "kernelspec": {
   "display_name": "Python 3",
   "language": "python",
   "name": "python3"
  },
  "language_info": {
   "codemirror_mode": {
    "name": "ipython",
    "version": 3
   },
   "file_extension": ".py",
   "mimetype": "text/x-python",
   "name": "python",
   "nbconvert_exporter": "python",
   "pygments_lexer": "ipython3",
   "version": "3.7.0"
  }
 },
 "nbformat": 4,
 "nbformat_minor": 2
}

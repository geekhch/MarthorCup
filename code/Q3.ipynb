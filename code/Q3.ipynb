{
 "cells": [
  {
   "cell_type": "code",
   "execution_count": 2,
   "metadata": {},
   "outputs": [],
   "source": [
    "import numpy as np\n",
    "from sklearn import tree,metrics,svm,ensemble,neighbors\n",
    "import pandas as pd\n",
    "from sklearn.model_selection import train_test_split,KFold\n",
    "from sklearn import linear_model\n",
    "import xgboost as xgb\n",
    "from sklearn.preprocessing import PolynomialFeatures\n",
    "from sklearn.pipeline import Pipeline\n",
    "from scipy import optimize"
   ]
  },
  {
   "cell_type": "code",
   "execution_count": 3,
   "metadata": {},
   "outputs": [
    {
     "data": {
      "text/plain": [
       "16"
      ]
     },
     "execution_count": 3,
     "metadata": {},
     "output_type": "execute_result"
    }
   ],
   "source": [
    "mixture = ['氮化钒铁FeV55N11-A','低铝硅铁','钒氮合金(进口)','钒铁(FeV50-A)','钒铁(FeV50-B)','硅铝钙','硅铝合金FeAl30Si25','硅铝锰合金球',\n",
    "           '硅锰面（硅锰渣）','硅铁(合格块)','硅铁FeSi75-B','石油焦增碳剂','锰硅合金FeMn64Si27(合格块)','锰硅合金FeMn68Si18(合格块)',\n",
    "           '碳化硅(55%)','硅钙碳脱氧剂']\n",
    "columns = ['转炉终点温度', '转炉终点C', '转炉终点Mn', '转炉终点S', '转炉终点P',\n",
    "       '转炉终点Si', '钢水净重', '连铸正样C', '连铸正样Mn', '连铸正样S', '连铸正样P', '连铸正样Si', '氮化钒铁FeV55N11-A', '低铝硅铁',\n",
    "       '钒氮合金(进口)', '钒铁(FeV50-A)', '钒铁(FeV50-B)', '钒铁(FeV50-B).1', '硅铝钙',\n",
    "       '硅铝合金FeAl30Si25', '硅铝锰合金球', '硅锰面（硅锰渣）', '硅铁(合格块)', '硅铁FeSi75-B',\n",
    "       '石油焦增碳剂', '锰硅合金FeMn64Si27(合格块)', '锰硅合金FeMn68Si18(合格块)', '碳化硅(55%)',\n",
    "       '硅钙碳脱氧剂']\n",
    "x_col = [ '转炉终点C', '转炉终点Mn', '转炉终点S', '转炉终点P',\n",
    "       '转炉终点Si','转炉终点温度', '氮化钒铁FeV55N11-A', '低铝硅铁',\n",
    "       '钒氮合金(进口)', '钒铁(FeV50-A)', '钒铁(FeV50-B)', '硅铝钙',\n",
    "       '硅铝合金FeAl30Si25', '硅铝锰合金球', '硅锰面（硅锰渣）', '硅铁(合格块)', '硅铁FeSi75-B',\n",
    "       '石油焦增碳剂', '锰硅合金FeMn64Si27(合格块)', '锰硅合金FeMn68Si18(合格块)', '碳化硅(55%)',\n",
    "       '硅钙碳脱氧剂']\n",
    "price = [350000,6500,350000,205000,205000,11800,1000,8500,7600,6000,6000,4600,8150,8150,6100,4000]\n",
    "len(price)"
   ]
  },
  {
   "cell_type": "markdown",
   "metadata": {},
   "source": [
    "### 计算单位钢水重量加入配料的质量，对最终合金元素浓度的预测模型"
   ]
  },
  {
   "cell_type": "code",
   "execution_count": 4,
   "metadata": {
    "scrolled": true
   },
   "outputs": [
    {
     "data": {
      "text/plain": [
       "703"
      ]
     },
     "execution_count": 4,
     "metadata": {},
     "output_type": "execute_result"
    }
   ],
   "source": [
    "data = pd.read_excel('./data1.xlsx')\n",
    "data.drop(data[data['连铸正样C'].isnull()].index,inplace=True)\n",
    "\n",
    "# data=data[data['钢号']=='HRB400B    '][columns]\n",
    "# 离群值处理\n",
    "outs=['转炉终点温度', '转炉终点C', '转炉终点Mn', '转炉终点S', '转炉终点P',\n",
    "       '转炉终点Si', '钢水净重', '连铸正样C', '连铸正样Mn', '连铸正样S', '连铸正样P', '连铸正样Si']\n",
    "for out in outs:\n",
    "    data.drop(data[(data[out]>(data[out].mean()+3*data[out].std()))|(data[out]<(data[out].mean()-3*data[out].std()))].index,inplace=True)\n",
    "#单位钢水重量的浓度\n",
    "\n",
    "for m in mixture:\n",
    "    data[m]/=data['钢水净重']\n",
    "data = data[columns].apply(lambda x: (x - np.min(x)) / (np.max(x) - np.min(x)+1e-15))\n",
    "\n",
    "data.drop('钢水净重',axis=1,inplace=True)\n",
    "data.fillna(data.mean(),inplace=True)\n",
    "data2 = pd.read_excel('data2.xlsx')\n",
    "data2.head(2)\n",
    "data['钒铁(FeV50-B)'] = data['钒铁(FeV50-B)']+data['钒铁(FeV50-B).1']\n",
    "data.drop('钒铁(FeV50-B).1',axis=1,inplace=True)\n",
    "# X = data[x_col].apply(lambda x: (x - np.min(x)) / (np.max(x) - np.min(x)+1e-10)).values\n",
    "X = data[x_col].values\n",
    "\n",
    "len(data)#.isna().sum()"
   ]
  },
  {
   "cell_type": "markdown",
   "metadata": {},
   "source": [
    "### 以下分别计算五种元素的预测模型，变量X为1kg钢水质量加入的每种合金配料质量的向量、温度、初始合金元素浓度"
   ]
  },
  {
   "cell_type": "code",
   "execution_count": 6,
   "metadata": {},
   "outputs": [
    {
     "data": {
      "text/plain": [
       "(0.22295431620688055,\n",
       " 0.09716740688353555,\n",
       " 0.01488557362229302,\n",
       " 0.5424145288769179)"
      ]
     },
     "execution_count": 6,
     "metadata": {},
     "output_type": "execute_result"
    }
   ],
   "source": [
    "Y = data['连铸正样Si'].values\n",
    "clf = linear_model.LinearRegression()\n",
    "ki = 8\n",
    "kf = KFold(n_splits=ki)\n",
    "r2,mae,mse=0,0,0\n",
    "for train_index,test_index in kf.split(X):\n",
    "    clf_Si = clf.fit(X[train_index],Y[train_index])\n",
    "    pre_y = clf_Si.predict(X[test_index])\n",
    "    r2+=metrics.r2_score(Y[test_index],pre_y)\n",
    "    mae+=metrics.mean_absolute_error(Y[test_index],pre_y)\n",
    "    mse+=metrics.mean_squared_error(Y[test_index],pre_y)\n",
    "r2/ki,mae/ki,mse/ki,np.mean(np.abs((Y[test_index]-pre_y)/Y[test_index])) # r2系数，平均绝对误差"
   ]
  },
  {
   "cell_type": "code",
   "execution_count": 7,
   "metadata": {},
   "outputs": [
    {
     "data": {
      "text/plain": [
       "(-0.05049679535058227,\n",
       " 0.1507323185268067,\n",
       " 0.03176306343038844,\n",
       " 0.26975969670478867)"
      ]
     },
     "execution_count": 7,
     "metadata": {},
     "output_type": "execute_result"
    }
   ],
   "source": [
    "Y = data['连铸正样C'].values\n",
    "clf = linear_model.LinearRegression()\n",
    "ki = 8\n",
    "kf = KFold(n_splits=ki)\n",
    "r2,mae,mse=0,0,0\n",
    "for train_index,test_index in kf.split(X):\n",
    "    clf_C = clf.fit(X[train_index],Y[train_index])\n",
    "    pre_y = clf_C.predict(X[test_index])\n",
    "    r2+=metrics.r2_score(Y[test_index],pre_y)\n",
    "    mae+=metrics.mean_absolute_error(Y[test_index],pre_y)\n",
    "    mse+=metrics.mean_squared_error(Y[test_index],pre_y)\n",
    "r2/ki,mae/ki,mse/ki,np.mean(np.abs((Y[test_index]-pre_y)/Y[test_index]))"
   ]
  },
  {
   "cell_type": "code",
   "execution_count": 8,
   "metadata": {},
   "outputs": [
    {
     "data": {
      "text/plain": [
       "(0.23421193777926808,\n",
       " 0.11509734178204228,\n",
       " 0.021046919335384606,\n",
       " 0.26025381828487937)"
      ]
     },
     "execution_count": 8,
     "metadata": {},
     "output_type": "execute_result"
    }
   ],
   "source": [
    "Y = data['连铸正样S'].values\n",
    "clf = linear_model.LinearRegression()\n",
    "ki = 8\n",
    "kf = KFold(n_splits=ki)\n",
    "r2,mae,mse=0,0,0\n",
    "for train_index,test_index in kf.split(X):\n",
    "    clf_S = clf.fit(X[train_index],Y[train_index])\n",
    "    pre_y = clf_S.predict(X[test_index])\n",
    "    r2+=metrics.r2_score(Y[test_index],pre_y)\n",
    "    mae+=metrics.mean_absolute_error(Y[test_index],pre_y)\n",
    "    mse+=metrics.mean_squared_error(Y[test_index],pre_y)\n",
    "r2/ki,mae/ki,mse/ki,np.mean(np.abs((Y[test_index]-pre_y)/Y[test_index]))"
   ]
  },
  {
   "cell_type": "code",
   "execution_count": 9,
   "metadata": {},
   "outputs": [],
   "source": [
    "## S,P缺失值较多，去掉缺失值行后计算模型"
   ]
  },
  {
   "cell_type": "code",
   "execution_count": 10,
   "metadata": {},
   "outputs": [],
   "source": [
    "data.drop(data[data['转炉终点Mn'].isnull()].index,inplace=True)\n",
    "data.drop(data[data['转炉终点P'].isnull()].index,inplace=True)"
   ]
  },
  {
   "cell_type": "code",
   "execution_count": 11,
   "metadata": {},
   "outputs": [
    {
     "name": "stderr",
     "output_type": "stream",
     "text": [
      "C:\\Users\\70953\\Anaconda3\\lib\\site-packages\\ipykernel_launcher.py:12: RuntimeWarning: divide by zero encountered in true_divide\n",
      "  if sys.path[0] == '':\n"
     ]
    },
    {
     "data": {
      "text/plain": [
       "(0.05616786107103136, 0.14496529391368743, 0.03339890394157134, inf)"
      ]
     },
     "execution_count": 11,
     "metadata": {},
     "output_type": "execute_result"
    }
   ],
   "source": [
    "Y = data['连铸正样P'].values\n",
    "clf = linear_model.LinearRegression()\n",
    "ki = 8\n",
    "kf = KFold(n_splits=ki)\n",
    "r2,mae,mse=0,0,0\n",
    "for train_index,test_index in kf.split(X):\n",
    "    clf_P = clf.fit(X[train_index],Y[train_index])\n",
    "    pre_y = clf_P.predict(X[test_index])\n",
    "    r2+=metrics.r2_score(Y[test_index],pre_y)\n",
    "    mae+=metrics.mean_absolute_error(Y[test_index],pre_y)\n",
    "    mse+=metrics.mean_squared_error(Y[test_index],pre_y)\n",
    "r2/ki,mae/ki,mse/ki,np.mean(np.abs((Y[test_index]-pre_y)/Y[test_index]))"
   ]
  },
  {
   "cell_type": "code",
   "execution_count": 12,
   "metadata": {},
   "outputs": [
    {
     "name": "stderr",
     "output_type": "stream",
     "text": [
      "C:\\Users\\70953\\Anaconda3\\lib\\site-packages\\ipykernel_launcher.py:13: RuntimeWarning: divide by zero encountered in true_divide\n",
      "  del sys.path[0]\n"
     ]
    },
    {
     "data": {
      "text/plain": [
       "(0.06574022623511991, 0.11865528946320542, 0.022955910732692937, inf)"
      ]
     },
     "execution_count": 12,
     "metadata": {},
     "output_type": "execute_result"
    }
   ],
   "source": [
    "Y = data['连铸正样Mn'].values\n",
    "clf = linear_model.BayesianRidge()\n",
    "ki = 8\n",
    "kf = KFold(n_splits=ki)\n",
    "r2,mae,mse=0,0,0\n",
    "for train_index,test_index in kf.split(X):\n",
    "    clf_Mn = clf.fit(X[train_index],Y[train_index])\n",
    "    pre_y = clf_Mn.predict(X[test_index])\n",
    "    r2+=metrics.r2_score(Y[test_index],pre_y)\n",
    "    mae+=metrics.mean_absolute_error(Y[test_index],pre_y)\n",
    "    mse+=metrics.mean_squared_error(Y[test_index],pre_y)\n",
    "## r2决定系数，绝对误差，绝对均方误差，绝对误差百分比\n",
    "r2/ki,mae/ki,mse/ki,np.mean(np.abs((Y[test_index]-pre_y)/Y[test_index]))"
   ]
  },
  {
   "cell_type": "markdown",
   "metadata": {},
   "source": [
    "## 使用常量替代不是配料的变量，计算一吨合金在下列条件下的最低配料费用"
   ]
  },
  {
   "cell_type": "code",
   "execution_count": 13,
   "metadata": {},
   "outputs": [],
   "source": [
    "init_ = [data['转炉终点C'].mean(),data['转炉终点Mn'].mean(),data['转炉终点S'].mean(),data['转炉终点P'].mean(),data['转炉终点Si'].mean(),data['转炉终点温度'].mean()]"
   ]
  },
  {
   "cell_type": "markdown",
   "metadata": {},
   "source": [
    "## 建立线性约束不等式以及目标函数,并优化求解"
   ]
  },
  {
   "cell_type": "code",
   "execution_count": 15,
   "metadata": {},
   "outputs": [
    {
     "data": {
      "text/plain": [
       "     con: array([], dtype=float64)\n",
       "     fun: 96.74175835503726\n",
       " message: 'Optimization terminated successfully.'\n",
       "     nit: 11\n",
       "   slack: array([-1.60635394e-15,  6.00000000e-04,  1.44884105e-13,  3.00000000e-03,\n",
       "       -1.55431223e-14, -1.62647673e-14, -1.10356169e-13,  1.50000000e-03])\n",
       "  status: 0\n",
       " success: True\n",
       "       x: array([1.48472616e-14, 2.07354363e-13, 4.21345325e-02, 1.68022881e-01,\n",
       "       2.62549062e-14, 2.93584684e-14, 1.21898570e-14, 1.43150865e-13,\n",
       "       4.71352500e+00, 8.95557247e-15, 5.43594869e-15, 1.05918868e+00,\n",
       "       4.94799808e-14, 1.19180051e-14, 4.39332087e-14, 1.71373088e+00])"
      ]
     },
     "execution_count": 15,
     "metadata": {},
     "output_type": "execute_result"
    }
   ],
   "source": [
    "\n",
    "c = data2['价格(元/吨)'].values/1000 #配料价格作为目标函数系数/kg\n",
    "a = np.array([\n",
    "    list(clf_C.coef_[6:]),list(-clf_C.coef_[6:]),list(clf_Mn.coef_[6:]),list(-clf_Mn.coef_[6:]),\n",
    "    list(clf_S.coef_[6:]),list(clf_P.coef_[6:]),\n",
    "    list(clf_Si.coef_[6:]),list(-clf_Si.coef_[6:])\n",
    "])\n",
    "b = np.array([\n",
    "    0.0025-sum(clf_C.coef_[:6]*init_),-0.0019+sum(clf_C.coef_[:6]*init_),\n",
    "    0.016-sum(clf_Mn.coef_[:6]*init_),-0.013+sum(clf_Mn.coef_[:6]*init_),\n",
    "    0.00045-sum(clf_S.coef_[:6]*init_),0.00045-sum(clf_P.coef_[:6]*init_),\n",
    "    0.0065-sum(clf_Si.coef_[:6]*init_),-0.005+sum(clf_Si.coef_[:6]*init_)\n",
    "])\n",
    "\n",
    "#设置配料变量取值范围为0到正无穷\n",
    "bds = []\n",
    "for pl in data2['合金配料']:\n",
    "    bds.append((0,None))\n",
    "optimize.linprog(c,A_ub=a,b_ub=b,bounds=bds,method='interior-point')"
   ]
  },
  {
   "cell_type": "code",
   "execution_count": 26,
   "metadata": {
    "scrolled": false
   },
   "outputs": [
    {
     "name": "stdout",
     "output_type": "stream",
     "text": [
      "氮化钒铁FeV55N11-A & 1.48472616e-11 & 硅锰面（硅锰渣） & 4713.525 \\\\\n",
      "低铝硅铁 & 2.07354363e-10 & 硅铁(合格块) & 8.95557247e-12 \\\\\n",
      "钒氮合金(进口) & 42.1345325 & 硅铁FeSi75-B & 5.43594869e-12 \\\\\n",
      "钒铁(FeV50-A) & 168.022881 & 石油焦增碳剂 & 1059.1886800000002 \\\\\n",
      "钒铁(FeV50-B) & 2.6254906199999998e-11 & 锰硅合金FeMn64Si27(合格块) & 4.9479980799999995e-11 \\\\\n",
      "硅铝钙 & 2.93584684e-11 & 锰硅合金FeMn68Si18(合格块) & 1.1918005100000001e-11 \\\\\n",
      "硅铝合金FeAl30Si25 & 1.2189857e-11 & 碳化硅(55%) & 4.3933208700000004e-11 \\\\\n",
      "硅铝锰合金球 & 1.43150865e-10 & 硅钙碳脱氧剂 & 1713.73088 \\\\\n"
     ]
    }
   ],
   "source": [
    "v = [1.48472616e-14, 2.07354363e-13, 4.21345325e-02, 1.68022881e-01,\n",
    "       2.62549062e-14, 2.93584684e-14, 1.21898570e-14, 1.43150865e-13,\n",
    "       4.71352500e+00, 8.95557247e-15, 5.43594869e-15, 1.05918868e+00,\n",
    "       4.94799808e-14, 1.19180051e-14, 4.39332087e-14, 1.71373088e+00]\n",
    "for i in range(8):\n",
    "    print(data2['合金配料'][i],'&',1000*v[i],'&',data2['合金配料'][i+8],'&',1000*v[i+8],'\\\\\\\\')"
   ]
  }
 ],
 "metadata": {
  "kernelspec": {
   "display_name": "Python 3",
   "language": "python",
   "name": "python3"
  },
  "language_info": {
   "codemirror_mode": {
    "name": "ipython",
    "version": 3
   },
   "file_extension": ".py",
   "mimetype": "text/x-python",
   "name": "python",
   "nbconvert_exporter": "python",
   "pygments_lexer": "ipython3",
   "version": "3.7.0"
  }
 },
 "nbformat": 4,
 "nbformat_minor": 2
}

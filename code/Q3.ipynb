{
 "cells": [
  {
   "cell_type": "code",
   "execution_count": 26,
   "metadata": {},
   "outputs": [],
   "source": [
    "import numpy as np\n",
    "from sklearn import tree,metrics,svm,ensemble,neighbors\n",
    "import pandas as pd\n",
    "from sklearn.model_selection import train_test_split,KFold\n",
    "from sklearn import linear_model\n",
    "import xgboost as xgb\n",
    "from sklearn.preprocessing import PolynomialFeatures\n",
    "from sklearn.pipeline import Pipeline"
   ]
  },
  {
   "cell_type": "code",
   "execution_count": 35,
   "metadata": {},
   "outputs": [
    {
     "data": {
      "text/plain": [
       "16"
      ]
     },
     "execution_count": 35,
     "metadata": {},
     "output_type": "execute_result"
    }
   ],
   "source": [
    "mixture = ['氮化钒铁FeV55N11-A','低铝硅铁','钒氮合金(进口)','钒铁(FeV50-A)','钒铁(FeV50-B)','硅铝钙','硅铝合金FeAl30Si25','硅铝锰合金球',\n",
    "           '硅锰面（硅锰渣）','硅铁(合格块)','硅铁FeSi75-B','石油焦增碳剂','锰硅合金FeMn64Si27(合格块)','锰硅合金FeMn68Si18(合格块)',\n",
    "           '碳化硅(55%)','硅钙碳脱氧剂']\n",
    "columns = ['转炉终点温度', '转炉终点C', '转炉终点Mn', '转炉终点S', '转炉终点P',\n",
    "       '转炉终点Si', '钢水净重', '连铸正样C', '连铸正样Mn', '连铸正样S', '连铸正样P', '连铸正样Si', '氮化钒铁FeV55N11-A', '低铝硅铁',\n",
    "       '钒氮合金(进口)', '钒铁(FeV50-A)', '钒铁(FeV50-B)', '钒铁(FeV50-B).1', '硅铝钙',\n",
    "       '硅铝合金FeAl30Si25', '硅铝锰合金球', '硅锰面（硅锰渣）', '硅铁(合格块)', '硅铁FeSi75-B',\n",
    "       '石油焦增碳剂', '锰硅合金FeMn64Si27(合格块)', '锰硅合金FeMn68Si18(合格块)', '碳化硅(55%)',\n",
    "       '硅钙碳脱氧剂']\n",
    "x_col = ['转炉终点温度', '转炉终点C', '转炉终点Mn', '转炉终点S', '转炉终点P',\n",
    "       '转炉终点Si', '钢水净重', '氮化钒铁FeV55N11-A', '低铝硅铁',\n",
    "       '钒氮合金(进口)', '钒铁(FeV50-A)', '钒铁(FeV50-B)', '钒铁(FeV50-B).1', '硅铝钙',\n",
    "       '硅铝合金FeAl30Si25', '硅铝锰合金球', '硅锰面（硅锰渣）', '硅铁(合格块)', '硅铁FeSi75-B',\n",
    "       '石油焦增碳剂', '锰硅合金FeMn64Si27(合格块)', '锰硅合金FeMn68Si18(合格块)', '碳化硅(55%)',\n",
    "       '硅钙碳脱氧剂']\n",
    "price = [350000,6500,350000,205000,205000,11800,1000,8500,7600,6000,6000,4600,8150,8150,6100,4000]\n",
    "len(price)"
   ]
  },
  {
   "cell_type": "code",
   "execution_count": 66,
   "metadata": {
    "scrolled": false
   },
   "outputs": [
    {
     "data": {
      "text/plain": [
       "810"
      ]
     },
     "execution_count": 66,
     "metadata": {},
     "output_type": "execute_result"
    }
   ],
   "source": [
    "data = pd.read_excel('./data1.xlsx')[columns]\n",
    "data.drop(data[data['连铸正样C'].isnull()].index,inplace=True)\n",
    "data.fillna(data.mean(),inplace=True)\n",
    "# X = data[x_col].apply(lambda x: (x - np.min(x)) / (np.max(x) - np.min(x)+1e-10)).values\n",
    "X = data[x_col].values\n",
    "data2 = pd.read_excel('data2.xlsx')\n",
    "data2.head(2)\n",
    "len(data)#.isna().sum()"
   ]
  },
  {
   "cell_type": "code",
   "execution_count": 67,
   "metadata": {},
   "outputs": [],
   "source": [
    "# data[x_col].apply(lambda x: (x - np.min(x)) / (np.max(x) - np.min(x)+1e-10))"
   ]
  },
  {
   "cell_type": "code",
   "execution_count": 95,
   "metadata": {},
   "outputs": [
    {
     "data": {
      "text/plain": [
       "(0.12182281488734231,\n",
       " 0.0002577557637286876,\n",
       " 1.0833932251544438e-07,\n",
       " 0.025244462996490847)"
      ]
     },
     "execution_count": 95,
     "metadata": {},
     "output_type": "execute_result"
    }
   ],
   "source": [
    "Y = data['连铸正样Mn'].values\n",
    "clf = linear_model.BayesianRidge()\n",
    "ki = 8\n",
    "kf = KFold(n_splits=ki)\n",
    "r2,mae,mse=0,0,0\n",
    "for train_index,test_index in kf.split(X):\n",
    "    clf_Mn = clf.fit(X[train_index],Y[train_index])\n",
    "    pre_y = clf_Mn.predict(X[test_index])\n",
    "    r2+=metrics.r2_score(Y[test_index],pre_y)\n",
    "    mae+=metrics.mean_absolute_error(Y[test_index],pre_y)\n",
    "    mse+=metrics.mean_squared_error(Y[test_index],pre_y)\n",
    "r2/ki,mae/ki,mse/ki,np.mean(np.abs((Y[test_index]-pre_y)/Y[test_index]))"
   ]
  },
  {
   "cell_type": "code",
   "execution_count": 96,
   "metadata": {},
   "outputs": [
    {
     "data": {
      "text/plain": [
       "(-0.17835828857335728,\n",
       " 7.18033521100905e-05,\n",
       " 1.0677563633536286e-08,\n",
       " 0.02528586954827705)"
      ]
     },
     "execution_count": 96,
     "metadata": {},
     "output_type": "execute_result"
    }
   ],
   "source": [
    "Y = data['连铸正样C'].values\n",
    "clf = linear_model.LinearRegression()\n",
    "ki = 8\n",
    "kf = KFold(n_splits=ki)\n",
    "r2,mae,mse=0,0,0\n",
    "for train_index,test_index in kf.split(X):\n",
    "    clf_C = clf.fit(X[train_index],Y[train_index])\n",
    "    pre_y = clf_C.predict(X[test_index])\n",
    "    r2+=metrics.r2_score(Y[test_index],pre_y)\n",
    "    mae+=metrics.mean_absolute_error(Y[test_index],pre_y)\n",
    "    mse+=metrics.mean_squared_error(Y[test_index],pre_y)\n",
    "r2/ki,mae/ki,mse/ki,np.mean(np.abs((Y[test_index]-pre_y)/Y[test_index]))"
   ]
  },
  {
   "cell_type": "code",
   "execution_count": 97,
   "metadata": {},
   "outputs": [
    {
     "data": {
      "text/plain": [
       "(0.0859079053308286,\n",
       " 2.551226723204416e-05,\n",
       " 1.0739373645547263e-09,\n",
       " 0.06865947998699251)"
      ]
     },
     "execution_count": 97,
     "metadata": {},
     "output_type": "execute_result"
    }
   ],
   "source": [
    "Y = data['连铸正样S'].values\n",
    "clf = linear_model.LinearRegression()\n",
    "ki = 8\n",
    "kf = KFold(n_splits=ki)\n",
    "r2,mae,mse=0,0,0\n",
    "for train_index,test_index in kf.split(X):\n",
    "    clf_S = clf.fit(X[train_index],Y[train_index])\n",
    "    pre_y = clf_S.predict(X[test_index])\n",
    "    r2+=metrics.r2_score(Y[test_index],pre_y)\n",
    "    mae+=metrics.mean_absolute_error(Y[test_index],pre_y)\n",
    "    mse+=metrics.mean_squared_error(Y[test_index],pre_y)\n",
    "r2/ki,mae/ki,mse/ki,np.mean(np.abs((Y[test_index]-pre_y)/Y[test_index]))"
   ]
  },
  {
   "cell_type": "code",
   "execution_count": 102,
   "metadata": {},
   "outputs": [
    {
     "data": {
      "text/plain": [
       "(-0.09013455540329227,\n",
       " 4.5149665120858574e-05,\n",
       " 3.0365705808088065e-09,\n",
       " 0.2119461422450102)"
      ]
     },
     "execution_count": 102,
     "metadata": {},
     "output_type": "execute_result"
    }
   ],
   "source": [
    "Y = data['连铸正样P'].values\n",
    "clf = linear_model.BayesianRidge()\n",
    "ki = 8\n",
    "kf = KFold(n_splits=ki)\n",
    "r2,mae,mse=0,0,0\n",
    "for train_index,test_index in kf.split(X):\n",
    "    clf_P = clf.fit(X[train_index],Y[train_index])\n",
    "    pre_y = clf_P.predict(X[test_index])\n",
    "    r2+=metrics.r2_score(Y[test_index],pre_y)\n",
    "    mae+=metrics.mean_absolute_error(Y[test_index],pre_y)\n",
    "    mse+=metrics.mean_squared_error(Y[test_index],pre_y)\n",
    "r2/ki,mae/ki,mse/ki,np.mean(np.abs((Y[test_index]-pre_y)/Y[test_index]))"
   ]
  },
  {
   "cell_type": "code",
   "execution_count": 100,
   "metadata": {},
   "outputs": [
    {
     "data": {
      "text/plain": [
       "(0.11405754250228836,\n",
       " 0.00016228735185103664,\n",
       " 4.8928400195975566e-08,\n",
       " 0.04444014475604282)"
      ]
     },
     "execution_count": 100,
     "metadata": {},
     "output_type": "execute_result"
    }
   ],
   "source": [
    "Y = data['连铸正样Si'].values\n",
    "clf = linear_model.LinearRegression()\n",
    "ki = 8\n",
    "kf = KFold(n_splits=ki)\n",
    "r2,mae,mse=0,0,0\n",
    "for train_index,test_index in kf.split(X):\n",
    "    clf_Mn = clf.fit(X[train_index],Y[train_index])\n",
    "    pre_y = clf_Mn.predict(X[test_index])\n",
    "    r2+=metrics.r2_score(Y[test_index],pre_y)\n",
    "    mae+=metrics.mean_absolute_error(Y[test_index],pre_y)\n",
    "    mse+=metrics.mean_squared_error(Y[test_index],pre_y)\n",
    "r2/ki,mae/ki,mse/ki,np.mean(np.abs((Y[test_index]-pre_y)/Y[test_index]))"
   ]
  },
  {
   "cell_type": "code",
   "execution_count": 79,
   "metadata": {},
   "outputs": [],
   "source": [
    "init_C,init_Mn,init_P,init_S,init_Si = data['转炉终点C'].mean(),data['转炉终点Mn'].mean(),data['转炉终点P'].mean(),data['转炉终点S'].mean(),data['转炉终点Si'].mean()"
   ]
  },
  {
   "cell_type": "code",
   "execution_count": 87,
   "metadata": {},
   "outputs": [
    {
     "data": {
      "text/plain": [
       "array([ 2.90478395e-08,  9.05874192e-03, -1.70139773e-02,  2.24288135e-02,\n",
       "       -1.71989719e-01,  2.56243437e-05,  9.12487282e-10,  1.99837767e-06,\n",
       "       -9.09143992e-07,  1.59568232e-06,  7.32502551e-07,  2.33721701e-12,\n",
       "        1.86676623e-06, -6.30146473e-07, -1.89737647e-06,  9.00546998e-14,\n",
       "       -2.44747705e-10,  6.45923412e-07,  3.19284574e-07,  1.15735708e-06,\n",
       "        2.80408420e-08,  3.86359678e-09,  1.53718655e-06,  1.20559566e-06])"
      ]
     },
     "execution_count": 87,
     "metadata": {},
     "output_type": "execute_result"
    }
   ],
   "source": [
    "clf_C.coef_"
   ]
  }
 ],
 "metadata": {
  "kernelspec": {
   "display_name": "Python 3",
   "language": "python",
   "name": "python3"
  },
  "language_info": {
   "codemirror_mode": {
    "name": "ipython",
    "version": 3
   },
   "file_extension": ".py",
   "mimetype": "text/x-python",
   "name": "python",
   "nbconvert_exporter": "python",
   "pygments_lexer": "ipython3",
   "version": "3.7.0"
  }
 },
 "nbformat": 4,
 "nbformat_minor": 2
}
